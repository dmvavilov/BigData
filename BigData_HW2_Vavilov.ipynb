{
  "nbformat": 4,
  "nbformat_minor": 0,
  "metadata": {
    "kernelspec": {
      "display_name": "Python 3",
      "language": "python",
      "name": "python3"
    },
    "language_info": {
      "codemirror_mode": {
        "name": "ipython",
        "version": 3
      },
      "file_extension": ".py",
      "mimetype": "text/x-python",
      "name": "python",
      "nbconvert_exporter": "python",
      "pygments_lexer": "ipython3",
      "version": "3.6.7"
    },
    "colab": {
      "name": "BigData_HW2_Vavilov.ipynb",
      "provenance": [],
      "collapsed_sections": [],
      "toc_visible": true
    }
  },
  "cells": [
    {
      "cell_type": "markdown",
      "metadata": {
        "id": "pP08pcjqH3AR"
      },
      "source": [
        "# install stuff"
      ]
    },
    {
      "cell_type": "code",
      "metadata": {
        "id": "vaaRW-Y0H3AU",
        "colab": {
          "base_uri": "https://localhost:8080/"
        },
        "outputId": "be9ec755-3901-4a7c-e5ce-7feb415fd573"
      },
      "source": [
        "! pip install pyspark pandas scikit-learn langdetect "
      ],
      "execution_count": 1,
      "outputs": [
        {
          "output_type": "stream",
          "text": [
            "Collecting pyspark\n",
            "\u001b[?25l  Downloading https://files.pythonhosted.org/packages/89/db/e18cfd78e408de957821ec5ca56de1250645b05f8523d169803d8df35a64/pyspark-3.1.2.tar.gz (212.4MB)\n",
            "\u001b[K     |████████████████████████████████| 212.4MB 64kB/s \n",
            "\u001b[?25hRequirement already satisfied: pandas in /usr/local/lib/python3.7/dist-packages (1.1.5)\n",
            "Requirement already satisfied: scikit-learn in /usr/local/lib/python3.7/dist-packages (0.22.2.post1)\n",
            "Collecting langdetect\n",
            "\u001b[?25l  Downloading https://files.pythonhosted.org/packages/0e/72/a3add0e4eec4eb9e2569554f7c70f4a3c27712f40e3284d483e88094cc0e/langdetect-1.0.9.tar.gz (981kB)\n",
            "\u001b[K     |████████████████████████████████| 983kB 16.1MB/s \n",
            "\u001b[?25hCollecting py4j==0.10.9\n",
            "\u001b[?25l  Downloading https://files.pythonhosted.org/packages/9e/b6/6a4fb90cd235dc8e265a6a2067f2a2c99f0d91787f06aca4bcf7c23f3f80/py4j-0.10.9-py2.py3-none-any.whl (198kB)\n",
            "\u001b[K     |████████████████████████████████| 204kB 51.0MB/s \n",
            "\u001b[?25hRequirement already satisfied: python-dateutil>=2.7.3 in /usr/local/lib/python3.7/dist-packages (from pandas) (2.8.1)\n",
            "Requirement already satisfied: pytz>=2017.2 in /usr/local/lib/python3.7/dist-packages (from pandas) (2018.9)\n",
            "Requirement already satisfied: numpy>=1.15.4 in /usr/local/lib/python3.7/dist-packages (from pandas) (1.19.5)\n",
            "Requirement already satisfied: joblib>=0.11 in /usr/local/lib/python3.7/dist-packages (from scikit-learn) (1.0.1)\n",
            "Requirement already satisfied: scipy>=0.17.0 in /usr/local/lib/python3.7/dist-packages (from scikit-learn) (1.4.1)\n",
            "Requirement already satisfied: six in /usr/local/lib/python3.7/dist-packages (from langdetect) (1.15.0)\n",
            "Building wheels for collected packages: pyspark, langdetect\n",
            "  Building wheel for pyspark (setup.py) ... \u001b[?25l\u001b[?25hdone\n",
            "  Created wheel for pyspark: filename=pyspark-3.1.2-py2.py3-none-any.whl size=212880768 sha256=45be440a7ced8ef1a242042f0fbe8a10e1526bf7e9ce75120ed7bacf1f1c0d52\n",
            "  Stored in directory: /root/.cache/pip/wheels/40/1b/2c/30f43be2627857ab80062bef1527c0128f7b4070b6b2d02139\n",
            "  Building wheel for langdetect (setup.py) ... \u001b[?25l\u001b[?25hdone\n",
            "  Created wheel for langdetect: filename=langdetect-1.0.9-cp37-none-any.whl size=993242 sha256=50ac7ae248fdae9464c02891fd0c5924b7ac716f57ce38621e18c69730f7c45d\n",
            "  Stored in directory: /root/.cache/pip/wheels/7e/18/13/038c34057808931c7ddc6c92d3aa015cf1a498df5a70268996\n",
            "Successfully built pyspark langdetect\n",
            "Installing collected packages: py4j, pyspark, langdetect\n",
            "Successfully installed langdetect-1.0.9 py4j-0.10.9 pyspark-3.1.2\n"
          ],
          "name": "stdout"
        }
      ]
    },
    {
      "cell_type": "markdown",
      "metadata": {
        "id": "BZ1YUp11H3AV"
      },
      "source": [
        "# setup pyspark"
      ]
    },
    {
      "cell_type": "code",
      "metadata": {
        "id": "qqns1hjZH3AV"
      },
      "source": [
        "import pyspark.sql\n",
        "from pyspark.sql import functions as sf\n",
        "import pyspark\n",
        "from langdetect import detect\n",
        "from pyspark.sql.window import Window"
      ],
      "execution_count": 2,
      "outputs": []
    },
    {
      "cell_type": "code",
      "metadata": {
        "colab": {
          "base_uri": "https://localhost:8080/"
        },
        "id": "4aEVU_z6EI7m",
        "outputId": "b47609d0-10e2-45d3-e294-d0986f475dbc"
      },
      "source": [
        "! gdown https://drive.google.com/uc?id=1ORCn-Mbs4-peTkaS519XgAfTR4sR7mHm # Спасибо Денису Штырову, который загрузил на свой диск архив\n",
        "# Это сделано для того, чтобы все работа через RunAll"
      ],
      "execution_count": 3,
      "outputs": [
        {
          "output_type": "stream",
          "text": [
            "Downloading...\n",
            "From: https://drive.google.com/uc?id=1ORCn-Mbs4-peTkaS519XgAfTR4sR7mHm\n",
            "To: /content/hw_data.zip\n",
            "763MB [00:05, 128MB/s]\n"
          ],
          "name": "stdout"
        }
      ]
    },
    {
      "cell_type": "code",
      "metadata": {
        "id": "cnBaIhbfESe1"
      },
      "source": [
        "!unzip -q ./hw_data.zip -d ./ "
      ],
      "execution_count": 4,
      "outputs": []
    },
    {
      "cell_type": "code",
      "metadata": {
        "id": "snxGod7LH3AW"
      },
      "source": [
        "sparkConf = pyspark.SparkConf() \\\n",
        "    .set(\"spark.executor.memory\", \"512m\")\\\n",
        "    .set(\"spark.driver.memory\", \"512m\")\n",
        "ss = pyspark.sql.SparkSession.builder.config(conf=sparkConf).master('local[1]').getOrCreate()"
      ],
      "execution_count": 5,
      "outputs": []
    },
    {
      "cell_type": "markdown",
      "metadata": {
        "id": "7UN4cesXH3AW"
      },
      "source": [
        "# load data"
      ]
    },
    {
      "cell_type": "code",
      "metadata": {
        "id": "H0aQ8C28H3AW"
      },
      "source": [
        "train_data = ss.read.orc('./posts_train.orc')\n",
        "test_data = ss.read.orc('./posts_test.orc')\n",
        "channel_data = ss.read.orc('./channels_orc')"
      ],
      "execution_count": 6,
      "outputs": []
    },
    {
      "cell_type": "code",
      "metadata": {
        "id": "tXnIrf5zOD0y",
        "colab": {
          "base_uri": "https://localhost:8080/"
        },
        "outputId": "32152bee-d373-493b-8207-2dc877e7f643"
      },
      "source": [
        "channel_data.show()"
      ],
      "execution_count": 7,
      "outputs": [
        {
          "output_type": "stream",
          "text": [
            "+--------------------+----------+--------------------+----------------+----------+----------+--------------------+--------------------+----------+----------+\n",
            "|         description|is_private|         last_parsed|            name|post_count|     tg_id|               title|             updated|user_count|channel_id|\n",
            "+--------------------+----------+--------------------+----------------+----------+----------+--------------------+--------------------+----------+----------+\n",
            "|                    |     false|2019-01-26 16:53:...|   MoeinZchannel|     708.0|1002972402|             Moein Z|2019-01-26 16:53:...|   62411.0|      7910|\n",
            "|Вокруг столько ме...|     false|2019-02-12 00:39:...|  merzotachannel|    1027.0|1336284461|            Мерзость|2019-02-12 00:39:...|   12982.0|     14121|\n",
            "|🗣እኛስ የተሰቀለውን ክርስ...|     false|2019-02-10 06:57:...|christian_mezmur|    1168.0|1136987361|Christian Mezmur ...|2019-02-10 06:57:...|   21704.0|     17375|\n",
            "|     Chiroyli_qomatt|     false|2018-12-08 00:54:...|chiroyli_ayollar|     775.0|1363004116|    Ideal qomat siri|2018-12-08 00:54:...|    6516.0|     49797|\n",
            "|                    |     false|2019-02-10 14:31:...|   abhijitrathod|    1468.0|1090317766|Parivartan by Abh...|2019-02-10 14:31:...|   18995.0|     33685|\n",
            "|Самый злой канал ...|     false|2019-02-14 13:35:...|         banksta|    1496.0|1136626166|             Банкста|2019-02-14 13:35:...|   80775.0|       593|\n",
            "|Menyajikan Artike...|     false|2019-02-12 06:41:...|    warisansalaf|    1710.0|1044990222|    WarisanSalaf.Com|2019-02-12 06:41:...|   11827.0|     28273|\n",
            "|Медиа о медиа, о ...|     false|2019-02-11 05:36:...|      rianovosti|     745.0|1086469061|                РИАN|2019-02-11 05:36:...|   15894.0|       164|\n",
            "|Официальный телег...|     false|2018-12-06 16:44:...|     onf_channel|     854.0|1087368242|                 ОНФ|2018-12-06 16:44:...|    9251.0|       803|\n",
            "|Channel kami meny...|     false|2018-12-08 06:45:...|    LawakNetizen|    6700.0|1106630225|Lawak Netizen Kini🍁|2018-12-08 06:45:...|    5990.0|     23828|\n",
            "|Butun dunyodan va...|     false|2019-02-09 19:19:...|        grantlar|    1439.0|1084882654|         Grantlar.uz|2019-02-09 19:19:...|   30957.0|      3104|\n",
            "|Get all new offer...|     false|2018-12-08 02:07:...|        offerzn1|     988.0|1191789620|           Offerzone|2018-12-08 02:07:...|    6403.0|     57433|\n",
            "|Note : A System w...|     false|2019-02-10 10:46:...| HOLLYWOODTIMESS|     915.0|1236711248| ▶CiNEMAWORLD HEVC ◀|2019-02-10 10:46:...|   20315.0|     54238|\n",
            "|Все заметки из са...|     false|2018-12-07 07:53:...|        shapi_to|    5438.0|1006548020|              Шапито|2018-12-07 07:53:...|    7840.0|       391|\n",
            "|📣 Xalq ta'limi x...|     false|2018-12-11 03:07:...|         ustozla|    2787.0|1163214532|Ustozlar va Pedag...|2018-12-11 03:07:...|    4183.0|     16196|\n",
            "|🔬جامع ترین کانال...|     false|2019-02-12 05:22:...|     Lab_science|    7067.0|1003423418|         Lab_science|2019-02-12 05:22:...|   12049.0|     49197|\n",
            "|Биринчи рақамли У...|     false|2019-02-19 13:48:...|    MOSHINABOZOR|    7685.0|1004436908|    №1 MOSHINA BOZOR|2019-02-19 13:48:...|   66511.0|     14341|\n",
            "|Сразу жми Mute\n",
            "Мн...|     false|2019-02-12 09:44:...|    stickerssave|    4626.0|1143943563|       Stickers save|2019-02-12 09:44:...|   11359.0|     60980|\n",
            "|24/7 междисциплин...|     false|2018-12-11 03:07:...|        barbanel|    3757.0|1073424715|       DIMA BARBANEL|2018-12-11 03:07:...|    4184.0|     15394|\n",
            "|  4pool.n3@gmail.com|     false|2019-02-11 06:52:...|   dimsmirnov175|    1615.0|1069772626|              Пул N3|2019-02-11 06:52:...|   15545.0|       673|\n",
            "+--------------------+----------+--------------------+----------------+----------+----------+--------------------+--------------------+----------+----------+\n",
            "only showing top 20 rows\n",
            "\n"
          ],
          "name": "stdout"
        }
      ]
    },
    {
      "cell_type": "markdown",
      "metadata": {
        "id": "PIrY_sMKH3AX"
      },
      "source": [
        "# make features"
      ]
    },
    {
      "cell_type": "code",
      "metadata": {
        "id": "-lrVX5IAP-AM"
      },
      "source": [
        "@sf.udf\n",
        "def text_len(text):\n",
        "  if text == None: \n",
        "    return 0\n",
        "  return len(text)"
      ],
      "execution_count": 8,
      "outputs": []
    },
    {
      "cell_type": "code",
      "metadata": {
        "id": "PXOLvhwCM4of"
      },
      "source": [
        "@sf.udf\n",
        "def text_lang(text):\n",
        "  try:\n",
        "    return detect(text)\n",
        "  except:\n",
        "    return 'hard to detect'"
      ],
      "execution_count": 9,
      "outputs": []
    },
    {
      "cell_type": "code",
      "metadata": {
        "id": "4ePY3MLgKJHM"
      },
      "source": [
        "train_data = train_data.withColumn('text_size', text_len(\"text\").cast('int'))"
      ],
      "execution_count": 10,
      "outputs": []
    },
    {
      "cell_type": "code",
      "metadata": {
        "id": "tK5IlJQhJazr"
      },
      "source": [
        "timeFmt = \"yyyy-MM-dd HH:mm:ss+SS\"\n",
        "train_data = train_data.join(channel_data.select([\"channel_id\", 'updated']), on='channel_id', how='left')\\\n",
        "            .withColumn('time_passed', sf.unix_timestamp('updated', format=timeFmt) - sf.unix_timestamp('date', format=timeFmt) / 360) # сколько прошло времени с момента поста в минутах"
      ],
      "execution_count": 11,
      "outputs": []
    },
    {
      "cell_type": "code",
      "metadata": {
        "id": "QRiZ4gouJmz5"
      },
      "source": [
        "ws = Window.partitionBy('channel_id') \\\n",
        "          .orderBy('date_as_int') \\\n",
        "          .rangeBetween(-7, 0)\n",
        "\n",
        "\n",
        "train_data = train_data.withColumn('date_as_int', sf.unix_timestamp(sf.col('date').cast('date')) / 86400)\\\n",
        "               .withColumn('average_text_len_7_days', sf.mean(sf.col('text_size')).over(ws))"
      ],
      "execution_count": 12,
      "outputs": []
    },
    {
      "cell_type": "code",
      "metadata": {
        "id": "ycIY0UbIKOEx"
      },
      "source": [
        "train_data = train_data.withColumn('date_as_int', sf.unix_timestamp(sf.col('date').cast('date')) / 86400)\\\n",
        "             .withColumn('text_len_diff_with_mean', sf.col('average_text_len_7_days') - sf.col('text_size')) # смотрим разницу со средним количеством"
      ],
      "execution_count": 13,
      "outputs": []
    },
    {
      "cell_type": "code",
      "metadata": {
        "id": "046Nn_0KKyAk"
      },
      "source": [
        "train_data = train_data.withColumn('date_as_int', sf.unix_timestamp(sf.col('date').cast('date')) / 86400)\\\n",
        "             .withColumn('posts_count', sf.count('id').over(ws)) # смотрим активность канала - количество постов за неделю"
      ],
      "execution_count": 14,
      "outputs": []
    },
    {
      "cell_type": "code",
      "metadata": {
        "id": "nEKmUBuLL6W5"
      },
      "source": [
        "test_data = test_data.withColumn('text_size', text_len(\"text\").cast('int'))"
      ],
      "execution_count": 15,
      "outputs": []
    },
    {
      "cell_type": "code",
      "metadata": {
        "id": "NuiJ_Y3mMC-H"
      },
      "source": [
        "timeFmt = \"yyyy-MM-dd HH:mm:ss+SS\"\n",
        "test_data = test_data.join(channel_data.select([\"channel_id\", 'updated']), on='channel_id', how='left')\\\n",
        "            .withColumn('time_passed', sf.unix_timestamp('updated', format=timeFmt) - sf.unix_timestamp('date', format=timeFmt) / 360) # сколько прошло времени с момента поста в минутах"
      ],
      "execution_count": 16,
      "outputs": []
    },
    {
      "cell_type": "code",
      "metadata": {
        "id": "RnhiXpp2MDPI"
      },
      "source": [
        "ws = Window.partitionBy('channel_id') \\\n",
        "          .orderBy('date_as_int') \\\n",
        "          .rangeBetween(-7, 0)\n",
        "\n",
        "\n",
        "test_data = test_data.withColumn('date_as_int', sf.unix_timestamp(sf.col('date').cast('date')) / 86400)\\\n",
        "               .withColumn('average_text_len_7_days', sf.mean(sf.col('text_size')).over(ws))"
      ],
      "execution_count": 17,
      "outputs": []
    },
    {
      "cell_type": "code",
      "metadata": {
        "id": "-NlQKYLBM8sf"
      },
      "source": [
        "test_data = test_data.withColumn('date_as_int', sf.unix_timestamp(sf.col('date').cast('date')) / 86400)\\\n",
        "             .withColumn('text_len_diff_with_mean', sf.col('average_text_len_7_days') - sf.col('text_size')) # смотрим разницу со средним количеством"
      ],
      "execution_count": 18,
      "outputs": []
    },
    {
      "cell_type": "code",
      "metadata": {
        "id": "vUCPa6q8NtaB"
      },
      "source": [
        "test_data = test_data.withColumn('date_as_int', sf.unix_timestamp(sf.col('date').cast('date')) / 86400)\\\n",
        "             .withColumn('posts_count', sf.count('id').over(ws)) # смотрим активность канала - количество постов за неделю"
      ],
      "execution_count": 19,
      "outputs": []
    },
    {
      "cell_type": "code",
      "metadata": {
        "id": "_krvnVvrO0U1"
      },
      "source": [
        "def make_features(df):\n",
        "    cols = ['id', 'channel_id', 'has_image', 'is_forwarded', 'forwarded_id', 'text_size', 'time_passed', 'date_as_int', \n",
        "            'average_text_len_7_days', 'text_len_diff_with_mean', 'posts_count']\n",
        "    if 'views' in df.columns:\n",
        "        cols.append('views')\n",
        "    return df.select(*cols)"
      ],
      "execution_count": 20,
      "outputs": []
    },
    {
      "cell_type": "code",
      "metadata": {
        "id": "E1PtHdVbH3AY"
      },
      "source": [
        "train_features = make_features(train_data).cache()\n",
        "test_features = make_features(test_data).cache()"
      ],
      "execution_count": 21,
      "outputs": []
    },
    {
      "cell_type": "code",
      "metadata": {
        "id": "N5l5yTvuH3AY"
      },
      "source": [
        "test_features.write.csv('test_csv', mode='overwrite', header=True)\n",
        "train_features.write.csv('train_csv', mode='overwrite', header=True)"
      ],
      "execution_count": 22,
      "outputs": []
    },
    {
      "cell_type": "markdown",
      "metadata": {
        "id": "KTyk6klwH3AZ"
      },
      "source": [
        "# load features to pandas\n",
        "you also can use .toPandas()"
      ]
    },
    {
      "cell_type": "code",
      "metadata": {
        "id": "Zf9SPkNtH3AZ"
      },
      "source": [
        "import subprocess\n",
        "import glob\n",
        "import os\n",
        "import shutil\n",
        "import pandas as pd\n",
        "\n",
        "def load_and_merge_csv(path, **kwargs):\n",
        "    dfs = []\n",
        "    for g in glob.glob(os.path.join(path, '*.csv')):\n",
        "        dfs.append(pd.read_csv(g, **kwargs))\n",
        "    res = pd.concat(dfs)\n",
        "    res = res.set_index('id')\n",
        "    return res"
      ],
      "execution_count": 23,
      "outputs": []
    },
    {
      "cell_type": "code",
      "metadata": {
        "id": "cgjnMYW0H3AZ"
      },
      "source": [
        "trainXY = load_and_merge_csv('train_csv')\n",
        "testX = load_and_merge_csv('test_csv')\n",
        "\n",
        "trainXY['has_image'] = (trainXY['has_image'] == 't').astype(int)\n",
        "trainXY['is_forwarded'] = (trainXY['is_forwarded'] == 't').astype(int)\n",
        "\n",
        "testX['has_image'] = (testX['has_image'] == 't').astype(int)\n",
        "testX['is_forwarded'] = (testX['is_forwarded'] == 't').astype(int)"
      ],
      "execution_count": 24,
      "outputs": []
    },
    {
      "cell_type": "code",
      "metadata": {
        "colab": {
          "base_uri": "https://localhost:8080/"
        },
        "id": "-RNNqSqyS3zL",
        "outputId": "9f744f65-3846-42d2-af90-a2d9a546fd0d"
      },
      "source": [
        "trainXY.dtypes"
      ],
      "execution_count": 25,
      "outputs": [
        {
          "output_type": "execute_result",
          "data": {
            "text/plain": [
              "channel_id                   int64\n",
              "has_image                    int64\n",
              "is_forwarded                 int64\n",
              "forwarded_id               float64\n",
              "text_size                    int64\n",
              "time_passed                float64\n",
              "date_as_int                float64\n",
              "average_text_len_7_days    float64\n",
              "text_len_diff_with_mean    float64\n",
              "posts_count                  int64\n",
              "views                        int64\n",
              "dtype: object"
            ]
          },
          "metadata": {
            "tags": []
          },
          "execution_count": 25
        }
      ]
    },
    {
      "cell_type": "code",
      "metadata": {
        "id": "Qg5w5sggH3Aa"
      },
      "source": [
        "import numpy as np\n",
        "\n",
        "Ycol = 'views'\n",
        "to_drop = ['channel_id']\n",
        "trainX, trainY = trainXY.drop(Ycol, axis=1).drop(to_drop, axis=1), trainXY[Ycol]\n",
        "trainY = np.log(trainY + 100)\n",
        "\n",
        "testX = testX.drop(to_drop, axis=1)"
      ],
      "execution_count": 26,
      "outputs": []
    },
    {
      "cell_type": "markdown",
      "metadata": {
        "id": "7Qtk2fE_H3Aa"
      },
      "source": [
        "# train your model and predict test"
      ]
    },
    {
      "cell_type": "code",
      "metadata": {
        "id": "cZW21v3JPGUY",
        "colab": {
          "base_uri": "https://localhost:8080/"
        },
        "outputId": "0417c8a2-a986-46f4-e8a8-f6d5f1d44ba2"
      },
      "source": [
        "import lightgbm as lgb \n",
        "\n",
        "m = lgb.LGBMRegressor()\n",
        "m.fit(trainX, trainY)"
      ],
      "execution_count": 27,
      "outputs": [
        {
          "output_type": "execute_result",
          "data": {
            "text/plain": [
              "LGBMRegressor(boosting_type='gbdt', class_weight=None, colsample_bytree=1.0,\n",
              "              importance_type='split', learning_rate=0.1, max_depth=-1,\n",
              "              min_child_samples=20, min_child_weight=0.001, min_split_gain=0.0,\n",
              "              n_estimators=100, n_jobs=-1, num_leaves=31, objective=None,\n",
              "              random_state=None, reg_alpha=0.0, reg_lambda=0.0, silent=True,\n",
              "              subsample=1.0, subsample_for_bin=200000, subsample_freq=0)"
            ]
          },
          "metadata": {
            "tags": []
          },
          "execution_count": 27
        }
      ]
    },
    {
      "cell_type": "code",
      "metadata": {
        "colab": {
          "base_uri": "https://localhost:8080/",
          "height": 295
        },
        "id": "lXJB0btlUrbx",
        "outputId": "23e0a2fc-3a64-4682-e093-29cb91c3966f"
      },
      "source": [
        "lgb.plot_importance(m); # Хорошие получились признаки :)"
      ],
      "execution_count": 38,
      "outputs": [
        {
          "output_type": "display_data",
          "data": {
            "image/png": "[encoded data removed]",
            "text/plain": [
              "<Figure size 432x288 with 1 Axes>"
            ]
          },
          "metadata": {
            "tags": [],
            "needs_background": "light"
          }
        }
      ]
    },
    {
      "cell_type": "code",
      "metadata": {
        "id": "b5DRGw0dPb4Z"
      },
      "source": [
        "prediction = m.predict(testX)"
      ],
      "execution_count": 28,
      "outputs": []
    },
    {
      "cell_type": "code",
      "metadata": {
        "id": "ZAe3AhdYH3Ab",
        "colab": {
          "base_uri": "https://localhost:8080/"
        },
        "outputId": "2a8f9c03-81d8-43cb-940a-f2c0332cd8aa"
      },
      "source": [
        "prediction.shape"
      ],
      "execution_count": 29,
      "outputs": [
        {
          "output_type": "execute_result",
          "data": {
            "text/plain": [
              "(244386,)"
            ]
          },
          "metadata": {
            "tags": []
          },
          "execution_count": 29
        }
      ]
    },
    {
      "cell_type": "code",
      "metadata": {
        "id": "gtpuoma6H3Ab"
      },
      "source": [
        "assert prediction.shape == (244386,)"
      ],
      "execution_count": 30,
      "outputs": []
    },
    {
      "cell_type": "markdown",
      "metadata": {
        "id": "c12jhMGSH3Ab"
      },
      "source": [
        "# submit"
      ]
    },
    {
      "cell_type": "code",
      "metadata": {
        "id": "gM6XTCpEH3Ab",
        "colab": {
          "base_uri": "https://localhost:8080/"
        },
        "outputId": "e2a9c3fc-1948-4df7-df71-b3afa9cb7c44"
      },
      "source": [
        "! curl -H 'Cache-Control: no-cache' https://raw.githubusercontent.com/mike0sv/lsml_submit_server/2021/src/client.py -o client.py"
      ],
      "execution_count": 31,
      "outputs": [
        {
          "output_type": "stream",
          "text": [
            "  % Total    % Received % Xferd  Average Speed   Time    Time     Time  Current\n",
            "                                 Dload  Upload   Total   Spent    Left  Speed\n",
            "100  1906  100  1906    0     0   9076      0 --:--:-- --:--:-- --:--:--  9076\n"
          ],
          "name": "stdout"
        }
      ]
    },
    {
      "cell_type": "code",
      "metadata": {
        "id": "DC1GNsbKH3Ac"
      },
      "source": [
        "import client"
      ],
      "execution_count": 32,
      "outputs": []
    },
    {
      "cell_type": "code",
      "metadata": {
        "id": "8EftdjVeH3Ac",
        "colab": {
          "base_uri": "https://localhost:8080/"
        },
        "outputId": "4d3662f3-4b71-424a-f57d-f8bbdaa1bdab"
      },
      "source": [
        "client.make_eval(pd.DataFrame({'views': prediction}, index=testX.index))"
      ],
      "execution_count": 33,
      "outputs": [
        {
          "output_type": "stream",
          "text": [
            "Enter username:\n",
            "user30\n",
            "Enter password:\n",
            "··········\n"
          ],
          "name": "stdout"
        },
        {
          "output_type": "execute_result",
          "data": {
            "text/plain": [
              "{'data': {'mape': 10.749457292619615,\n",
              "  'mean_absolute_error': 0.8346787486369379,\n",
              "  'mean_squared_error': 1.3128945040077602,\n",
              "  'rmse': 1.1458160864675273,\n",
              "  'rmspe': 16.83697494232986},\n",
              " 'ok': True}"
            ]
          },
          "metadata": {
            "tags": []
          },
          "execution_count": 33
        }
      ]
    },
    {
      "cell_type": "code",
      "metadata": {
        "id": "sRNv_E-PH3Ac",
        "colab": {
          "base_uri": "https://localhost:8080/"
        },
        "outputId": "3a7f2a74-a735-4f7d-b33f-e863f290261a"
      },
      "source": [
        "client.check_results()"
      ],
      "execution_count": 34,
      "outputs": [
        {
          "output_type": "execute_result",
          "data": {
            "text/plain": [
              "{'2021-06-14': [{'baseline_beaten': True,\n",
              "   'is_final': False,\n",
              "   'metrics': {'mape': 10.759017351746136,\n",
              "    'mean_absolute_error': 0.8286153300979313,\n",
              "    'mean_squared_error': 1.292552071083069,\n",
              "    'rmse': 1.1369046006957086,\n",
              "    'rmspe': 16.944360391174826}},\n",
              "  {'baseline_beaten': True,\n",
              "   'is_final': True,\n",
              "   'metrics': {'mape': 10.759017351746136,\n",
              "    'mean_absolute_error': 0.8286153300979313,\n",
              "    'mean_squared_error': 1.292552071083069,\n",
              "    'rmse': 1.1369046006957086,\n",
              "    'rmspe': 16.944360391174826}},\n",
              "  {'baseline_beaten': True,\n",
              "   'is_final': False,\n",
              "   'metrics': {'mape': 10.749457292619615,\n",
              "    'mean_absolute_error': 0.8346787486369379,\n",
              "    'mean_squared_error': 1.3128945040077602,\n",
              "    'rmse': 1.1458160864675273,\n",
              "    'rmspe': 16.83697494232986}}]}"
            ]
          },
          "metadata": {
            "tags": []
          },
          "execution_count": 34
        }
      ]
    },
    {
      "cell_type": "code",
      "metadata": {
        "id": "eV3Di00xT1eV"
      },
      "source": [
        "# BASELINE = {\n",
        "# \t'mape': 15.707128974856676,\n",
        "# \t'mean_absolute_error': 1.219070382113261,\n",
        "# \t'mean_squared_error': 2.4324378881170055,\n",
        "# \t'rmse': 1.5596274837655963,\n",
        "# \t'rmspe': 23.50065988751091\n",
        "# }"
      ],
      "execution_count": null,
      "outputs": []
    }
  ]
}