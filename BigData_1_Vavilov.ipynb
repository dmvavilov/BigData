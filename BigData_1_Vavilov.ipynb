{
  "nbformat": 4,
  "nbformat_minor": 0,
  "metadata": {
    "colab": {
      "name": "BigData_1_Vavilov.ipynb",
      "provenance": [],
      "collapsed_sections": [],
      "toc_visible": true
    },
    "kernelspec": {
      "name": "python3",
      "display_name": "Python 3"
    },
    "language_info": {
      "name": "python"
    }
  },
  "cells": [
    {
      "cell_type": "code",
      "metadata": {
        "colab": {
          "base_uri": "https://localhost:8080/"
        },
        "id": "thTVsGkjxbVF",
        "outputId": "a3c61f71-ab4f-4b5a-a75a-b4951749f9e3"
      },
      "source": [
        "!pip install ipython-autotime\n",
        "\n",
        "%load_ext autotime"
      ],
      "execution_count": 2,
      "outputs": [
        {
          "output_type": "stream",
          "text": [
            "Collecting ipython-autotime\n",
            "  Downloading https://files.pythonhosted.org/packages/b4/c9/b413a24f759641bc27ef98c144b590023c8038dfb8a3f09e713e9dff12c1/ipython_autotime-0.3.1-py2.py3-none-any.whl\n",
            "Requirement already satisfied: ipython in /usr/local/lib/python3.7/dist-packages (from ipython-autotime) (5.5.0)\n",
            "Requirement already satisfied: decorator in /usr/local/lib/python3.7/dist-packages (from ipython->ipython-autotime) (4.4.2)\n",
            "Requirement already satisfied: pygments in /usr/local/lib/python3.7/dist-packages (from ipython->ipython-autotime) (2.6.1)\n",
            "Requirement already satisfied: simplegeneric>0.8 in /usr/local/lib/python3.7/dist-packages (from ipython->ipython-autotime) (0.8.1)\n",
            "Requirement already satisfied: setuptools>=18.5 in /usr/local/lib/python3.7/dist-packages (from ipython->ipython-autotime) (56.1.0)\n",
            "Requirement already satisfied: pexpect; sys_platform != \"win32\" in /usr/local/lib/python3.7/dist-packages (from ipython->ipython-autotime) (4.8.0)\n",
            "Requirement already satisfied: pickleshare in /usr/local/lib/python3.7/dist-packages (from ipython->ipython-autotime) (0.7.5)\n",
            "Requirement already satisfied: traitlets>=4.2 in /usr/local/lib/python3.7/dist-packages (from ipython->ipython-autotime) (5.0.5)\n",
            "Requirement already satisfied: prompt-toolkit<2.0.0,>=1.0.4 in /usr/local/lib/python3.7/dist-packages (from ipython->ipython-autotime) (1.0.18)\n",
            "Requirement already satisfied: ptyprocess>=0.5 in /usr/local/lib/python3.7/dist-packages (from pexpect; sys_platform != \"win32\"->ipython->ipython-autotime) (0.7.0)\n",
            "Requirement already satisfied: ipython-genutils in /usr/local/lib/python3.7/dist-packages (from traitlets>=4.2->ipython->ipython-autotime) (0.2.0)\n",
            "Requirement already satisfied: six>=1.9.0 in /usr/local/lib/python3.7/dist-packages (from prompt-toolkit<2.0.0,>=1.0.4->ipython->ipython-autotime) (1.15.0)\n",
            "Requirement already satisfied: wcwidth in /usr/local/lib/python3.7/dist-packages (from prompt-toolkit<2.0.0,>=1.0.4->ipython->ipython-autotime) (0.2.5)\n",
            "Installing collected packages: ipython-autotime\n",
            "Successfully installed ipython-autotime-0.3.1\n",
            "time: 194 µs (started: 2021-05-17 18:42:51 +00:00)\n"
          ],
          "name": "stdout"
        }
      ]
    },
    {
      "cell_type": "code",
      "metadata": {
        "colab": {
          "base_uri": "https://localhost:8080/"
        },
        "id": "PGS3B-E1tAlq",
        "outputId": "2d277faf-7989-4316-b76d-2f76d14088fc"
      },
      "source": [
        "!pip install pyspark===3.1.1"
      ],
      "execution_count": 3,
      "outputs": [
        {
          "output_type": "stream",
          "text": [
            "Collecting pyspark===3.1.1\n",
            "\u001b[?25l  Downloading https://files.pythonhosted.org/packages/45/b0/9d6860891ab14a39d4bddf80ba26ce51c2f9dc4805e5c6978ac0472c120a/pyspark-3.1.1.tar.gz (212.3MB)\n",
            "\u001b[K     |████████████████████████████████| 212.3MB 61kB/s \n",
            "\u001b[?25hCollecting py4j==0.10.9\n",
            "\u001b[?25l  Downloading https://files.pythonhosted.org/packages/9e/b6/6a4fb90cd235dc8e265a6a2067f2a2c99f0d91787f06aca4bcf7c23f3f80/py4j-0.10.9-py2.py3-none-any.whl (198kB)\n",
            "\u001b[K     |████████████████████████████████| 204kB 18.5MB/s \n",
            "\u001b[?25hBuilding wheels for collected packages: pyspark\n",
            "  Building wheel for pyspark (setup.py) ... \u001b[?25l\u001b[?25hdone\n",
            "  Created wheel for pyspark: filename=pyspark-3.1.1-py2.py3-none-any.whl size=212767604 sha256=38c425f2017bd79ecfa0e0d1bdfe1068579aff5cf01671794b3bae4e56d910ad\n",
            "  Stored in directory: /root/.cache/pip/wheels/0b/90/c0/01de724414ef122bd05f056541fb6a0ecf47c7ca655f8b3c0f\n",
            "Successfully built pyspark\n",
            "Installing collected packages: py4j, pyspark\n",
            "Successfully installed py4j-0.10.9 pyspark-3.1.1\n",
            "time: 39.4 s (started: 2021-05-17 18:42:51 +00:00)\n"
          ],
          "name": "stdout"
        }
      ]
    },
    {
      "cell_type": "code",
      "metadata": {
        "colab": {
          "base_uri": "https://localhost:8080/"
        },
        "id": "q1SyufdwtC-M",
        "outputId": "7dada4eb-f0a0-4e0f-c90c-5d4c4d0ddc08"
      },
      "source": [
        "!curl -O https://mars.ru77.ru/data/title.basics.tsv.gz\n",
        "!curl -O https://mars.ru77.ru/data/title.crew.tsv.gz\n",
        "!curl -O https://mars.ru77.ru/data/title.episode.tsv.gz\n",
        "!curl -O https://mars.ru77.ru/data/title.principals.tsv.gz\n",
        "!curl -O https://mars.ru77.ru/data/title.ratings.tsv.gz\n",
        "!curl -O https://mars.ru77.ru/data/title.akas.tsv.gz\n",
        "!curl -O https://mars.ru77.ru/data/name.basics.tsv.gz"
      ],
      "execution_count": 4,
      "outputs": [
        {
          "output_type": "stream",
          "text": [
            "  % Total    % Received % Xferd  Average Speed   Time    Time     Time  Current\n",
            "                                 Dload  Upload   Total   Spent    Left  Speed\n",
            "100  132M  100  132M    0     0  13.3M      0  0:00:09  0:00:09 --:--:-- 15.9M\n",
            "  % Total    % Received % Xferd  Average Speed   Time    Time     Time  Current\n",
            "                                 Dload  Upload   Total   Spent    Left  Speed\n",
            "100 51.7M  100 51.7M    0     0  10.6M      0  0:00:04  0:00:04 --:--:-- 12.9M\n",
            "  % Total    % Received % Xferd  Average Speed   Time    Time     Time  Current\n",
            "                                 Dload  Upload   Total   Spent    Left  Speed\n",
            "100 29.6M  100 29.6M    0     0  8887k      0  0:00:03  0:00:03 --:--:-- 8887k\n",
            "  % Total    % Received % Xferd  Average Speed   Time    Time     Time  Current\n",
            "                                 Dload  Upload   Total   Spent    Left  Speed\n",
            "100  342M  100  342M    0     0  15.1M      0  0:00:22  0:00:22 --:--:-- 16.0M\n",
            "  % Total    % Received % Xferd  Average Speed   Time    Time     Time  Current\n",
            "                                 Dload  Upload   Total   Spent    Left  Speed\n",
            "100 5526k  100 5526k    0     0  2964k      0  0:00:01  0:00:01 --:--:-- 2963k\n",
            "  % Total    % Received % Xferd  Average Speed   Time    Time     Time  Current\n",
            "                                 Dload  Upload   Total   Spent    Left  Speed\n",
            "100  214M  100  214M    0     0  14.6M      0  0:00:14  0:00:14 --:--:-- 15.7M\n",
            "  % Total    % Received % Xferd  Average Speed   Time    Time     Time  Current\n",
            "                                 Dload  Upload   Total   Spent    Left  Speed\n",
            "100  202M  100  202M    0     0  14.1M      0  0:00:14  0:00:14 --:--:-- 15.9M\n",
            "time: 1min 12s (started: 2021-05-17 18:43:31 +00:00)\n"
          ],
          "name": "stdout"
        }
      ]
    },
    {
      "cell_type": "code",
      "metadata": {
        "colab": {
          "base_uri": "https://localhost:8080/"
        },
        "id": "mrVTF31wtEs3",
        "outputId": "51d12920-0c98-46c2-9a17-2b7af5254bb2"
      },
      "source": [
        "from pyspark.sql import SparkSession, SQLContext\n",
        "from pyspark import SparkConf, SparkContext"
      ],
      "execution_count": 5,
      "outputs": [
        {
          "output_type": "stream",
          "text": [
            "time: 128 ms (started: 2021-05-17 18:44:43 +00:00)\n"
          ],
          "name": "stdout"
        }
      ]
    },
    {
      "cell_type": "code",
      "metadata": {
        "colab": {
          "base_uri": "https://localhost:8080/"
        },
        "id": "dnh4kT1ntH3O",
        "outputId": "fa30d023-7990-4435-a54e-69dcfbc35114"
      },
      "source": [
        "spark = SparkSession.builder.master(\"local[2]\").config(\"spark.driver.memory\", \"8g\").appName(\"aig\").enableHiveSupport().getOrCreate()\n",
        "sql = spark.sql"
      ],
      "execution_count": 6,
      "outputs": [
        {
          "output_type": "stream",
          "text": [
            "time: 8.42 s (started: 2021-05-17 18:44:43 +00:00)\n"
          ],
          "name": "stdout"
        }
      ]
    },
    {
      "cell_type": "code",
      "metadata": {
        "id": "0aWYBbGCtJe7",
        "colab": {
          "base_uri": "https://localhost:8080/"
        },
        "outputId": "2ccc5bb4-45b3-4931-d6d5-e99fa5a156dd"
      },
      "source": [
        "title_basics_csv = spark.read.csv(\"title.basics.tsv.gz\", sep='\\\\t', nullValue='\\\\N', header=True, quote=\"\", escape=\"\")\n",
        "title_basics_csv.createOrReplaceTempView(\"title_basics_csv\")\n",
        " \n",
        "title_principals_csv = spark.read.csv(\"title.principals.tsv.gz\", sep='\\\\t', nullValue='\\\\N', header=True, quote=\"\", escape=\"\")\n",
        "title_principals_csv.createOrReplaceTempView(\"title_principals_csv\")\n",
        " \n",
        "title_crew_csv = spark.read.csv(\"title.crew.tsv.gz\", sep='\\\\t', nullValue='\\\\N', header=True, quote=\"\", escape=\"\")\n",
        "title_crew_csv.createOrReplaceTempView(\"title_crew_csv\")\n",
        " \n",
        "title_episode_csv = spark.read.csv(\"title.episode.tsv.gz\", sep='\\\\t', nullValue='\\\\N', header=True, quote=\"\", escape=\"\")\n",
        "title_episode_csv.createOrReplaceTempView(\"title_episode_csv\")\n",
        " \n",
        "title_ratings_csv = spark.read.csv(\"title.ratings.tsv.gz\", sep='\\\\t', nullValue='\\\\N', header=True, quote=\"\", escape=\"\")\n",
        "title_ratings_csv.createOrReplaceTempView(\"title_ratings_csv\")\n",
        " \n",
        "title_akas_csv = spark.read.csv(\"title.akas.tsv.gz\", sep='\\\\t', nullValue='\\\\N', header=True, quote=\"\", escape=\"\")\n",
        "title_akas_csv.createOrReplaceTempView(\"title_akas_csv\")\n",
        " \n",
        "name_basics_csv = spark.read.csv(\"name.basics.tsv.gz\", sep='\\\\t', nullValue='\\\\N', header=True, quote=\"\", escape=\"\")\n",
        "name_basics_csv.createOrReplaceTempView(\"name_basics_csv\")"
      ],
      "execution_count": 7,
      "outputs": [
        {
          "output_type": "stream",
          "text": [
            "time: 9.97 s (started: 2021-05-17 18:44:52 +00:00)\n"
          ],
          "name": "stdout"
        }
      ]
    },
    {
      "cell_type": "code",
      "metadata": {
        "colab": {
          "base_uri": "https://localhost:8080/"
        },
        "id": "mlBOiWPttPcL",
        "outputId": "284a3ece-3043-4e7c-f334-4077ece37505"
      },
      "source": [
        "sql('SHOW TABLES').show()"
      ],
      "execution_count": 8,
      "outputs": [
        {
          "output_type": "stream",
          "text": [
            "+--------+--------------------+-----------+\n",
            "|database|           tableName|isTemporary|\n",
            "+--------+--------------------+-----------+\n",
            "|        |     name_basics_csv|       true|\n",
            "|        |      title_akas_csv|       true|\n",
            "|        |    title_basics_csv|       true|\n",
            "|        |      title_crew_csv|       true|\n",
            "|        |   title_episode_csv|       true|\n",
            "|        |title_principals_csv|       true|\n",
            "|        |   title_ratings_csv|       true|\n",
            "+--------+--------------------+-----------+\n",
            "\n",
            "time: 12.4 s (started: 2021-05-17 18:45:02 +00:00)\n"
          ],
          "name": "stdout"
        }
      ]
    },
    {
      "cell_type": "markdown",
      "metadata": {
        "id": "W1-HdzKxKcLh"
      },
      "source": [
        "# 1. Жанровые фильмы"
      ]
    },
    {
      "cell_type": "code",
      "metadata": {
        "id": "Er7D7FFxJ3r5",
        "colab": {
          "base_uri": "https://localhost:8080/"
        },
        "outputId": "e7aa17d5-76f2-4808-8011-31156f889ada"
      },
      "source": [
        "sql(\"CREATE TABLE title_basics STORED AS PARQUET AS SELECT * FROM title_basics_csv\").show()"
      ],
      "execution_count": 9,
      "outputs": [
        {
          "output_type": "stream",
          "text": [
            "++\n",
            "||\n",
            "++\n",
            "++\n",
            "\n",
            "time: 46.6 s (started: 2021-05-17 18:45:14 +00:00)\n"
          ],
          "name": "stdout"
        }
      ]
    },
    {
      "cell_type": "code",
      "metadata": {
        "colab": {
          "base_uri": "https://localhost:8080/"
        },
        "id": "bsqo2NgDwh9f",
        "outputId": "53cb3cf2-c929-42c4-8114-56505426066b"
      },
      "source": [
        "sql(\"CREATE TABLE title_basics_genres STORED AS PARQUET AS SELECT a.tconst, a.primaryTitle, EXPLODE(split(a.genres, '[,]', -1)) AS genre FROM title_basics_csv a\").show()"
      ],
      "execution_count": 10,
      "outputs": [
        {
          "output_type": "stream",
          "text": [
            "++\n",
            "||\n",
            "++\n",
            "++\n",
            "\n",
            "time: 1min 5s (started: 2021-05-17 18:46:01 +00:00)\n"
          ],
          "name": "stdout"
        }
      ]
    },
    {
      "cell_type": "code",
      "metadata": {
        "colab": {
          "base_uri": "https://localhost:8080/"
        },
        "id": "y4rqU2_XIrUD",
        "outputId": "1342be2a-fc45-4357-cba5-251f7e76e42a"
      },
      "source": [
        "sql('SELECT COUNT(*) genre_count FROM title_basics_genres WHERE genre = \"Comedy\"').show()"
      ],
      "execution_count": 11,
      "outputs": [
        {
          "output_type": "stream",
          "text": [
            "+-----------+\n",
            "|genre_count|\n",
            "+-----------+\n",
            "|    1598064|\n",
            "+-----------+\n",
            "\n",
            "time: 3.09 s (started: 2021-05-17 18:47:07 +00:00)\n"
          ],
          "name": "stdout"
        }
      ]
    },
    {
      "cell_type": "code",
      "metadata": {
        "colab": {
          "base_uri": "https://localhost:8080/"
        },
        "id": "Tw3Irp5NJbzj",
        "outputId": "0822d8b9-563e-4249-84c2-0eec1b2037e3"
      },
      "source": [
        "sql('SELECT COUNT(*) genre_count FROM title_basics WHERE genres LIKE \"%Comedy%\"').show()"
      ],
      "execution_count": 12,
      "outputs": [
        {
          "output_type": "stream",
          "text": [
            "+-----------+\n",
            "|genre_count|\n",
            "+-----------+\n",
            "|    1598064|\n",
            "+-----------+\n",
            "\n",
            "time: 1.51 s (started: 2021-05-17 18:47:10 +00:00)\n"
          ],
          "name": "stdout"
        }
      ]
    },
    {
      "cell_type": "markdown",
      "metadata": {
        "id": "B-qf4BDJLGqs"
      },
      "source": [
        "## 2. Хорошие жанровые фильмы"
      ]
    },
    {
      "cell_type": "code",
      "metadata": {
        "colab": {
          "base_uri": "https://localhost:8080/"
        },
        "id": "f-5yq0C4LU3f",
        "outputId": "ce393aba-f378-4fdb-951f-f5d11f1482cc"
      },
      "source": [
        "title_ratings_csv.show()"
      ],
      "execution_count": 13,
      "outputs": [
        {
          "output_type": "stream",
          "text": [
            "+---------+-------------+--------+\n",
            "|   tconst|averageRating|numVotes|\n",
            "+---------+-------------+--------+\n",
            "|tt0000001|          5.7|    1697|\n",
            "|tt0000002|          6.0|     211|\n",
            "|tt0000003|          6.5|    1451|\n",
            "|tt0000004|          6.1|     123|\n",
            "|tt0000005|          6.1|    2248|\n",
            "|tt0000006|          5.2|     125|\n",
            "|tt0000007|          5.4|     687|\n",
            "|tt0000008|          5.4|    1874|\n",
            "|tt0000009|          6.0|     155|\n",
            "|tt0000010|          6.9|    6296|\n",
            "|tt0000011|          5.2|     280|\n",
            "|tt0000012|          7.4|   10818|\n",
            "|tt0000013|          5.7|    1623|\n",
            "|tt0000014|          7.1|    4815|\n",
            "|tt0000015|          6.1|     876|\n",
            "|tt0000016|          5.9|    1249|\n",
            "|tt0000017|          4.6|     254|\n",
            "|tt0000018|          5.3|     502|\n",
            "|tt0000019|          5.3|      19|\n",
            "|tt0000020|          5.0|     281|\n",
            "+---------+-------------+--------+\n",
            "only showing top 20 rows\n",
            "\n",
            "time: 227 ms (started: 2021-05-17 18:47:11 +00:00)\n"
          ],
          "name": "stdout"
        }
      ]
    },
    {
      "cell_type": "code",
      "metadata": {
        "colab": {
          "base_uri": "https://localhost:8080/"
        },
        "id": "Y4uKdH4cOLmm",
        "outputId": "06967874-412e-46a3-d4c7-f9fd53b7bd7a"
      },
      "source": [
        "title_basics_csv.show()"
      ],
      "execution_count": 14,
      "outputs": [
        {
          "output_type": "stream",
          "text": [
            "+---------+---------+--------------------+--------------------+-------+---------+-------+--------------+--------------------+\n",
            "|   tconst|titleType|        primaryTitle|       originalTitle|isAdult|startYear|endYear|runtimeMinutes|              genres|\n",
            "+---------+---------+--------------------+--------------------+-------+---------+-------+--------------+--------------------+\n",
            "|tt0000001|    short|          Carmencita|          Carmencita|      0|     1894|   null|             1|   Documentary,Short|\n",
            "|tt0000002|    short|Le clown et ses c...|Le clown et ses c...|      0|     1892|   null|             5|     Animation,Short|\n",
            "|tt0000003|    short|      Pauvre Pierrot|      Pauvre Pierrot|      0|     1892|   null|             4|Animation,Comedy,...|\n",
            "|tt0000004|    short|         Un bon bock|         Un bon bock|      0|     1892|   null|            12|     Animation,Short|\n",
            "|tt0000005|    short|    Blacksmith Scene|    Blacksmith Scene|      0|     1893|   null|             1|        Comedy,Short|\n",
            "|tt0000006|    short|   Chinese Opium Den|   Chinese Opium Den|      0|     1894|   null|             1|               Short|\n",
            "|tt0000007|    short|Corbett and Court...|Corbett and Court...|      0|     1894|   null|             1|         Short,Sport|\n",
            "|tt0000008|    short|Edison Kinetoscop...|Edison Kinetoscop...|      0|     1894|   null|             1|   Documentary,Short|\n",
            "|tt0000009|    short|          Miss Jerry|          Miss Jerry|      0|     1894|   null|            40|       Romance,Short|\n",
            "|tt0000010|    short| Leaving the Factory|La sortie de l'us...|      0|     1895|   null|             1|   Documentary,Short|\n",
            "|tt0000011|    short|Akrobatisches Pot...|Akrobatisches Pot...|      0|     1895|   null|             1|   Documentary,Short|\n",
            "|tt0000012|    short|The Arrival of a ...|L'arrivée d'un tr...|      0|     1896|   null|             1|   Documentary,Short|\n",
            "|tt0000013|    short|The Photographica...|Neuville-sur-Saôn...|      0|     1895|   null|             1|   Documentary,Short|\n",
            "|tt0000014|    short| The Waterer Watered|   L'arroseur arrosé|      0|     1895|   null|             1|        Comedy,Short|\n",
            "|tt0000015|    short| Autour d'une cabine| Autour d'une cabine|      0|     1894|   null|             2|     Animation,Short|\n",
            "|tt0000016|    short|Barque sortant du...|Barque sortant du...|      0|     1895|   null|             1|   Documentary,Short|\n",
            "|tt0000017|    short|Italienischer Bau...|Italienischer Bau...|      0|     1895|   null|             1|   Documentary,Short|\n",
            "|tt0000018|    short|Das boxende Känguruh|Das boxende Känguruh|      0|     1895|   null|             1|               Short|\n",
            "|tt0000019|    short|    The Clown Barber|    The Clown Barber|      0|     1898|   null|          null|        Comedy,Short|\n",
            "|tt0000020|    short|      The Derby 1895|      The Derby 1895|      0|     1895|   null|             1|Documentary,Short...|\n",
            "+---------+---------+--------------------+--------------------+-------+---------+-------+--------------+--------------------+\n",
            "only showing top 20 rows\n",
            "\n",
            "time: 249 ms (started: 2021-05-17 18:47:12 +00:00)\n"
          ],
          "name": "stdout"
        }
      ]
    },
    {
      "cell_type": "code",
      "metadata": {
        "colab": {
          "base_uri": "https://localhost:8080/"
        },
        "id": "Tfy6BJjZLbkd",
        "outputId": "57495cfb-887e-43f4-f249-4c013c18b995"
      },
      "source": [
        "sql(\"CREATE TABLE IF NOT EXISTS genres_ratings STORED AS PARQUET AS SELECT a.tconst, a.primaryTitle, b.averageRating, b.numVotes, EXPLODE(split(a.genres, '[,]', -1)) AS genre \\\n",
        "                  FROM title_basics_csv a LEFT JOIN title_ratings_csv b on a.tconst=b.tconst\").show();"
      ],
      "execution_count": 15,
      "outputs": [
        {
          "output_type": "stream",
          "text": [
            "++\n",
            "||\n",
            "++\n",
            "++\n",
            "\n",
            "time: 1min 17s (started: 2021-05-17 18:47:12 +00:00)\n"
          ],
          "name": "stdout"
        }
      ]
    },
    {
      "cell_type": "code",
      "metadata": {
        "colab": {
          "base_uri": "https://localhost:8080/"
        },
        "id": "hH7RxgMbRBYf",
        "outputId": "faeea089-022d-4ee5-da50-0525761c7e6b"
      },
      "source": [
        "sql('SELECT genre, COUNT(tconst) as count, MAX(numVotes) as max_votes FROM genres_ratings WHERE averageRating >= 4 AND genre = \"Comedy\" GROUP BY genre').show()"
      ],
      "execution_count": 16,
      "outputs": [
        {
          "output_type": "stream",
          "text": [
            "+------+------+---------+\n",
            "| genre| count|max_votes|\n",
            "+------+------+---------+\n",
            "|Comedy|346708|     9996|\n",
            "+------+------+---------+\n",
            "\n",
            "time: 7.66 s (started: 2021-05-17 18:48:30 +00:00)\n"
          ],
          "name": "stdout"
        }
      ]
    },
    {
      "cell_type": "markdown",
      "metadata": {
        "id": "tGXNLgU6TxKM"
      },
      "source": [
        "## 3. И швец, и жнец"
      ]
    },
    {
      "cell_type": "code",
      "metadata": {
        "colab": {
          "base_uri": "https://localhost:8080/"
        },
        "id": "WG-5xxT4TF1U",
        "outputId": "4805e13c-4288-4d8b-c397-ad29c7793afc"
      },
      "source": [
        "title_crew_csv.show()"
      ],
      "execution_count": 17,
      "outputs": [
        {
          "output_type": "stream",
          "text": [
            "+---------+-------------------+---------+\n",
            "|   tconst|          directors|  writers|\n",
            "+---------+-------------------+---------+\n",
            "|tt0000001|          nm0005690|     null|\n",
            "|tt0000002|          nm0721526|     null|\n",
            "|tt0000003|          nm0721526|     null|\n",
            "|tt0000004|          nm0721526|     null|\n",
            "|tt0000005|          nm0005690|     null|\n",
            "|tt0000006|          nm0005690|     null|\n",
            "|tt0000007|nm0005690,nm0374658|     null|\n",
            "|tt0000008|          nm0005690|     null|\n",
            "|tt0000009|          nm0085156|nm0085156|\n",
            "|tt0000010|          nm0525910|     null|\n",
            "|tt0000011|          nm0804434|     null|\n",
            "|tt0000012|nm0525908,nm0525910|     null|\n",
            "|tt0000013|          nm0525910|     null|\n",
            "|tt0000014|nm0349785,nm0525910|     null|\n",
            "|tt0000015|          nm0721526|     null|\n",
            "|tt0000016|          nm0525910|     null|\n",
            "|tt0000017|nm0804434,nm1587194|     null|\n",
            "|tt0000018|          nm0804434|     null|\n",
            "|tt0000019|          nm0932055|     null|\n",
            "|tt0000020|          nm0010291|     null|\n",
            "+---------+-------------------+---------+\n",
            "only showing top 20 rows\n",
            "\n",
            "time: 116 ms (started: 2021-05-17 18:48:38 +00:00)\n"
          ],
          "name": "stdout"
        }
      ]
    },
    {
      "cell_type": "code",
      "metadata": {
        "colab": {
          "base_uri": "https://localhost:8080/"
        },
        "id": "XLVjnErhYLzu",
        "outputId": "19f59ef8-160c-4670-a0dc-8578de5507e8"
      },
      "source": [
        "name_basics_csv.show()"
      ],
      "execution_count": 18,
      "outputs": [
        {
          "output_type": "stream",
          "text": [
            "+---------+-------------------+---------+---------+--------------------+--------------------+\n",
            "|   nconst|        primaryName|birthYear|deathYear|   primaryProfession|      knownForTitles|\n",
            "+---------+-------------------+---------+---------+--------------------+--------------------+\n",
            "|nm0000001|       Fred Astaire|     1899|     1987|soundtrack,actor,...|tt0031983,tt00723...|\n",
            "|nm0000002|      Lauren Bacall|     1924|     2014|  actress,soundtrack|tt0117057,tt00718...|\n",
            "|nm0000003|    Brigitte Bardot|     1934|     null|actress,soundtrac...|tt0057345,tt00544...|\n",
            "|nm0000004|       John Belushi|     1949|     1982|actor,soundtrack,...|tt0072562,tt00804...|\n",
            "|nm0000005|     Ingmar Bergman|     1918|     2007|writer,director,a...|tt0050976,tt00509...|\n",
            "|nm0000006|     Ingrid Bergman|     1915|     1982|actress,soundtrac...|tt0038109,tt00777...|\n",
            "|nm0000007|    Humphrey Bogart|     1899|     1957|actor,soundtrack,...|tt0043265,tt00425...|\n",
            "|nm0000008|      Marlon Brando|     1924|     2004|actor,soundtrack,...|tt0078788,tt00708...|\n",
            "|nm0000009|     Richard Burton|     1925|     1984|actor,soundtrack,...|tt0087803,tt00578...|\n",
            "|nm0000010|       James Cagney|     1899|     1986|actor,soundtrack,...|tt0035575,tt00420...|\n",
            "|nm0000011|        Gary Cooper|     1901|     1961|actor,soundtrack,...|tt0034167,tt00447...|\n",
            "|nm0000012|        Bette Davis|     1908|     1989|actress,soundtrac...|tt0042192,tt00312...|\n",
            "|nm0000013|          Doris Day|     1922|     2019|soundtrack,actres...|tt0049470,tt00483...|\n",
            "|nm0000014|Olivia de Havilland|     1916|     2020|  actress,soundtrack|tt0040806,tt00414...|\n",
            "|nm0000015|         James Dean|     1931|     1955| actor,miscellaneous|tt0048028,tt00485...|\n",
            "|nm0000016|    Georges Delerue|     1925|     1992|composer,soundtra...|tt0091763,tt00573...|\n",
            "|nm0000017|   Marlene Dietrich|     1901|     1992|soundtrack,actres...|tt0052311,tt00211...|\n",
            "|nm0000018|       Kirk Douglas|     1916|     2020|actor,producer,so...|tt0054331,tt00434...|\n",
            "|nm0000019|   Federico Fellini|     1920|     1993|writer,director,a...|tt0071129,tt00568...|\n",
            "|nm0000020|        Henry Fonda|     1905|     1982|actor,producer,so...|tt0082846,tt00500...|\n",
            "+---------+-------------------+---------+---------+--------------------+--------------------+\n",
            "only showing top 20 rows\n",
            "\n",
            "time: 203 ms (started: 2021-05-17 18:48:38 +00:00)\n"
          ],
          "name": "stdout"
        }
      ]
    },
    {
      "cell_type": "code",
      "metadata": {
        "colab": {
          "base_uri": "https://localhost:8080/"
        },
        "id": "Z0cEnrO6WA58",
        "outputId": "ed565726-31fe-461b-b80d-ba32e32f0c4d"
      },
      "source": [
        "title_akas_csv.show()"
      ],
      "execution_count": 19,
      "outputs": [
        {
          "output_type": "stream",
          "text": [
            "+---------+--------+--------------------+------+--------+-----------+--------------------+---------------+\n",
            "|  titleId|ordering|               title|region|language|      types|          attributes|isOriginalTitle|\n",
            "+---------+--------+--------------------+------+--------+-----------+--------------------+---------------+\n",
            "|tt0000001|       1|          Карменсіта|    UA|    null|imdbDisplay|                null|              0|\n",
            "|tt0000001|       2|          Carmencita|    DE|    null|       null|       literal title|              0|\n",
            "|tt0000001|       3|Carmencita - span...|    HU|    null|imdbDisplay|                null|              0|\n",
            "|tt0000001|       4|          Καρμενσίτα|    GR|    null|imdbDisplay|                null|              0|\n",
            "|tt0000001|       5|          Карменсита|    RU|    null|imdbDisplay|                null|              0|\n",
            "|tt0000001|       6|          Carmencita|    US|    null|       null|                null|              0|\n",
            "|tt0000001|       7|          Carmencita|  null|    null|   original|                null|              1|\n",
            "|tt0000001|       8|      カルメンチータ|    JP|      ja|imdbDisplay|                null|              0|\n",
            "|tt0000002|       1|Le clown et ses c...|  null|    null|   original|                null|              1|\n",
            "|tt0000002|       2|   A bohóc és kutyái|    HU|    null|imdbDisplay|                null|              0|\n",
            "|tt0000002|       3|Le clown et ses c...|    FR|    null|       null|                null|              0|\n",
            "|tt0000002|       4|Der Clown und sei...|    DE|    null|       null|       literal title|              0|\n",
            "|tt0000002|       5|Clovnul si cainii...|    RO|    null|imdbDisplay|                null|              0|\n",
            "|tt0000002|       6|  Клоун и его собаки|    RU|    null|imdbDisplay|                null|              0|\n",
            "|tt0000002|       7|The Clown and His...|    US|    null|       null|literal English t...|              0|\n",
            "|tt0000002|       8|          道化師と犬|    JP|      ja|imdbDisplay|                null|              0|\n",
            "|tt0000003|       1|    Sarmanul Pierrot|    RO|    null|imdbDisplay|                null|              0|\n",
            "|tt0000003|       2|     Szegény Pierrot|    HU|    null|imdbDisplay|                null|              0|\n",
            "|tt0000003|       3|        哀れなピエロ|    JP|      ja|imdbDisplay|                null|              0|\n",
            "|tt0000003|       4|        Бідний П'єро|    UA|    null|imdbDisplay|                null|              0|\n",
            "+---------+--------+--------------------+------+--------+-----------+--------------------+---------------+\n",
            "only showing top 20 rows\n",
            "\n",
            "time: 227 ms (started: 2021-05-17 18:48:39 +00:00)\n"
          ],
          "name": "stdout"
        }
      ]
    },
    {
      "cell_type": "code",
      "metadata": {
        "colab": {
          "base_uri": "https://localhost:8080/"
        },
        "id": "CuVFFsI3gLCj",
        "outputId": "0d459b4c-1145-4c81-fcbc-f1b637fe2f83"
      },
      "source": [
        "title_basics_csv.show()"
      ],
      "execution_count": 20,
      "outputs": [
        {
          "output_type": "stream",
          "text": [
            "+---------+---------+--------------------+--------------------+-------+---------+-------+--------------+--------------------+\n",
            "|   tconst|titleType|        primaryTitle|       originalTitle|isAdult|startYear|endYear|runtimeMinutes|              genres|\n",
            "+---------+---------+--------------------+--------------------+-------+---------+-------+--------------+--------------------+\n",
            "|tt0000001|    short|          Carmencita|          Carmencita|      0|     1894|   null|             1|   Documentary,Short|\n",
            "|tt0000002|    short|Le clown et ses c...|Le clown et ses c...|      0|     1892|   null|             5|     Animation,Short|\n",
            "|tt0000003|    short|      Pauvre Pierrot|      Pauvre Pierrot|      0|     1892|   null|             4|Animation,Comedy,...|\n",
            "|tt0000004|    short|         Un bon bock|         Un bon bock|      0|     1892|   null|            12|     Animation,Short|\n",
            "|tt0000005|    short|    Blacksmith Scene|    Blacksmith Scene|      0|     1893|   null|             1|        Comedy,Short|\n",
            "|tt0000006|    short|   Chinese Opium Den|   Chinese Opium Den|      0|     1894|   null|             1|               Short|\n",
            "|tt0000007|    short|Corbett and Court...|Corbett and Court...|      0|     1894|   null|             1|         Short,Sport|\n",
            "|tt0000008|    short|Edison Kinetoscop...|Edison Kinetoscop...|      0|     1894|   null|             1|   Documentary,Short|\n",
            "|tt0000009|    short|          Miss Jerry|          Miss Jerry|      0|     1894|   null|            40|       Romance,Short|\n",
            "|tt0000010|    short| Leaving the Factory|La sortie de l'us...|      0|     1895|   null|             1|   Documentary,Short|\n",
            "|tt0000011|    short|Akrobatisches Pot...|Akrobatisches Pot...|      0|     1895|   null|             1|   Documentary,Short|\n",
            "|tt0000012|    short|The Arrival of a ...|L'arrivée d'un tr...|      0|     1896|   null|             1|   Documentary,Short|\n",
            "|tt0000013|    short|The Photographica...|Neuville-sur-Saôn...|      0|     1895|   null|             1|   Documentary,Short|\n",
            "|tt0000014|    short| The Waterer Watered|   L'arroseur arrosé|      0|     1895|   null|             1|        Comedy,Short|\n",
            "|tt0000015|    short| Autour d'une cabine| Autour d'une cabine|      0|     1894|   null|             2|     Animation,Short|\n",
            "|tt0000016|    short|Barque sortant du...|Barque sortant du...|      0|     1895|   null|             1|   Documentary,Short|\n",
            "|tt0000017|    short|Italienischer Bau...|Italienischer Bau...|      0|     1895|   null|             1|   Documentary,Short|\n",
            "|tt0000018|    short|Das boxende Känguruh|Das boxende Känguruh|      0|     1895|   null|             1|               Short|\n",
            "|tt0000019|    short|    The Clown Barber|    The Clown Barber|      0|     1898|   null|          null|        Comedy,Short|\n",
            "|tt0000020|    short|      The Derby 1895|      The Derby 1895|      0|     1895|   null|             1|Documentary,Short...|\n",
            "+---------+---------+--------------------+--------------------+-------+---------+-------+--------------+--------------------+\n",
            "only showing top 20 rows\n",
            "\n",
            "time: 152 ms (started: 2021-05-17 18:48:39 +00:00)\n"
          ],
          "name": "stdout"
        }
      ]
    },
    {
      "cell_type": "code",
      "metadata": {
        "colab": {
          "base_uri": "https://localhost:8080/"
        },
        "id": "cmPlvT3DXBBs",
        "outputId": "6247ec42-fa17-4a15-8523-d1bc214496b3"
      },
      "source": [
        "# фильмы, с одним актером-режиссером\n",
        "sql(\"CREATE TABLE IF NOT EXISTS writ_dir_movies STORED AS PARQUET AS SELECT DISTINCT tconst, director as director_writer FROM title_crew_csv d LATERAL VIEW EXPLODE(split(d.directors, '[,]', -1)) AS director \\\n",
        "                                 LATERAL VIEW EXPLODE(split(d.writers, '[,]', -1)) AS writer WHERE d.directors = d.writers\").show()"
      ],
      "execution_count": 21,
      "outputs": [
        {
          "output_type": "stream",
          "text": [
            "++\n",
            "||\n",
            "++\n",
            "++\n",
            "\n",
            "time: 32.8 s (started: 2021-05-17 18:48:39 +00:00)\n"
          ],
          "name": "stdout"
        }
      ]
    },
    {
      "cell_type": "code",
      "metadata": {
        "colab": {
          "base_uri": "https://localhost:8080/"
        },
        "id": "EeV4KkBQwlBi",
        "outputId": "0dd49eab-0418-411e-8c60-19fdace2458a"
      },
      "source": [
        "sql('SELECT COUNT(*) FROM writ_dir_movies').show()"
      ],
      "execution_count": 22,
      "outputs": [
        {
          "output_type": "stream",
          "text": [
            "+--------+\n",
            "|count(1)|\n",
            "+--------+\n",
            "|  791991|\n",
            "+--------+\n",
            "\n",
            "time: 1.14 s (started: 2021-05-17 18:49:12 +00:00)\n"
          ],
          "name": "stdout"
        }
      ]
    },
    {
      "cell_type": "code",
      "metadata": {
        "colab": {
          "base_uri": "https://localhost:8080/"
        },
        "id": "yYuZScnrdIyb",
        "outputId": "43edf15c-ada8-4503-9ccd-f077984cf289"
      },
      "source": [
        "sql(\"CREATE TABLE IF NOT EXISTS movies_with_same_writ_dir AS SELECT EXPLODE(split(c.genres, '[,]', -1)) as genre, b.primaryName as director_writer, c.primaryTitle, d.title as rus_title FROM writ_dir_movies a LEFT JOIN name_basics_csv b on a.director_writer = b.nconst\\\n",
        "             LEFT JOIN title_basics_csv c ON c.tconst = a.tconst \\\n",
        "             LEFT JOIN (SELECT titleId, title FROM title_akas_csv WHERE region = 'RU') as d ON d.titleId = a.tconst\").show()"
      ],
      "execution_count": 23,
      "outputs": [
        {
          "output_type": "stream",
          "text": [
            "++\n",
            "||\n",
            "++\n",
            "++\n",
            "\n",
            "time: 2min 27s (started: 2021-05-17 18:49:13 +00:00)\n"
          ],
          "name": "stdout"
        }
      ]
    },
    {
      "cell_type": "code",
      "metadata": {
        "colab": {
          "base_uri": "https://localhost:8080/"
        },
        "id": "OSdD-c75i4_d",
        "outputId": "1774767d-733e-4763-8eb5-f8fcbc6af5ad"
      },
      "source": [
        "sql(\"\"\" \n",
        "        SELECT * \n",
        "        FROM movies_with_same_writ_dir\n",
        "        WHERE genre = 'Comedy'\n",
        "  \"\"\").show() "
      ],
      "execution_count": 24,
      "outputs": [
        {
          "output_type": "stream",
          "text": [
            "+------+--------------------+--------------------+--------------------+\n",
            "| genre|     director_writer|        primaryTitle|           rus_title|\n",
            "+------+--------------------+--------------------+--------------------+\n",
            "|Comedy|       D.W. Griffith|  His Wife's Visitor|                null|\n",
            "|Comedy|Gilbert M. 'Bronc...|Alkali Ike Plays ...|                null|\n",
            "|Comedy|     Charles Chaplin|  His New Profession| Его новая профессия|\n",
            "|Comedy|          Max Linder|          Be My Wife|     Будь моей женой|\n",
            "|Comedy|          Bud Fisher|        The Stampede|                null|\n",
            "|Comedy|     Charles Chaplin|         The Pilgrim|                null|\n",
            "|Comedy|        Walter Lantz|           Bull-Oney|                null|\n",
            "|Comedy|          Tom Palmer|           Bull-Oney|                null|\n",
            "|Comedy|     Carson Davidson|Help! My Snowman'...|                null|\n",
            "|Comedy|         Andy Warhol| The Nude Restaurant|                null|\n",
            "|Comedy|      Ephraim Kishon|         The Big Dig|                null|\n",
            "|Comedy|     Joseph W. Sarno| Deep Throat Part II|                null|\n",
            "|Comedy|          Kuen Yeung| Don't Call Me Uncle|                null|\n",
            "|Comedy|     Kjell Jerselius|   Mot härliga tider|                null|\n",
            "|Comedy|      Chia-Liang Liu|Disciples of the ...|                null|\n",
            "|Comedy|   Daoud Abdel Sayed|       The Vagabonds|                null|\n",
            "|Comedy|      Bradd Saunders|   The Lounge People|                null|\n",
            "|Comedy|       Warren Leight|The Night We Neve...|Ночь, в которую м...|\n",
            "|Comedy|      Markku Pölönen|The Land of Happi...|                null|\n",
            "|Comedy|     Chi-Sing Cheung|I've Got You, Bab...|                null|\n",
            "+------+--------------------+--------------------+--------------------+\n",
            "only showing top 20 rows\n",
            "\n",
            "time: 1.94 s (started: 2021-05-17 18:51:40 +00:00)\n"
          ],
          "name": "stdout"
        }
      ]
    },
    {
      "cell_type": "markdown",
      "metadata": {
        "id": "h_9hhRSaj16u"
      },
      "source": [
        "## 4. Лучший в своем жанре"
      ]
    },
    {
      "cell_type": "code",
      "metadata": {
        "colab": {
          "base_uri": "https://localhost:8080/"
        },
        "id": "1pfHqP-nyo3M",
        "outputId": "5deffe32-304b-4f6a-8456-98fd41458b00"
      },
      "source": [
        "sql(\"CREATE TABLE IF NOT EXISTS genres_ratings_ STORED AS PARQUET AS SELECT a.tconst, a.primaryTitle, CAST(b.averageRating  AS DECIMAL(3, 1)), CAST(b.numVotes AS INT), EXPLODE(split(a.genres, '[,]', -1)) AS genre \\\n",
        "                  FROM title_basics_csv a LEFT JOIN title_ratings_csv b on a.tconst=b.tconst\").show();"
      ],
      "execution_count": 25,
      "outputs": [
        {
          "output_type": "stream",
          "text": [
            "++\n",
            "||\n",
            "++\n",
            "++\n",
            "\n",
            "time: 1min 19s (started: 2021-05-17 18:51:42 +00:00)\n"
          ],
          "name": "stdout"
        }
      ]
    },
    {
      "cell_type": "code",
      "metadata": {
        "colab": {
          "base_uri": "https://localhost:8080/"
        },
        "id": "qsAjAnU_y1pX",
        "outputId": "0a3b8f0d-de9b-4c35-efe4-9b2349d01f4e"
      },
      "source": [
        "sql('CREATE TABLE IF NOT EXISTS grouped_genres_ STORED AS PARQUET AS SELECT genre, COUNT(genre) as movies_count, SUM(averageRating*numVotes)/SUM(numVotes) avgRating FROM genres_ratings_ GROUP BY genre').show();"
      ],
      "execution_count": 26,
      "outputs": [
        {
          "output_type": "stream",
          "text": [
            "++\n",
            "||\n",
            "++\n",
            "++\n",
            "\n",
            "time: 11.3 s (started: 2021-05-17 18:53:01 +00:00)\n"
          ],
          "name": "stdout"
        }
      ]
    },
    {
      "cell_type": "code",
      "metadata": {
        "colab": {
          "base_uri": "https://localhost:8080/"
        },
        "id": "_JlVlLkD3WYb",
        "outputId": "0128e91e-9958-4baf-b807-957df2951922"
      },
      "source": [
        "sql('SELECT * FROM grouped_genres_').show(50)"
      ],
      "execution_count": 27,
      "outputs": [
        {
          "output_type": "stream",
          "text": [
            "+-----------+------------+-----------------+\n",
            "|      genre|movies_count|        avgRating|\n",
            "+-----------+------------+-----------------+\n",
            "|Documentary|      730992|7.506087425332168|\n",
            "| Reality-TV|      405142|6.737206815311104|\n",
            "|  Animation|      385975|7.515219940048797|\n",
            "|  Adventure|      301222|7.242417089821913|\n",
            "|  Talk-Show|      846144|7.233471574780194|\n",
            "|  Film-Noir|         781|7.626964374163787|\n",
            "|  Biography|       84118|7.570546121882929|\n",
            "|   Thriller|      131180|7.055362869682239|\n",
            "|    Musical|       58639|7.011799637513089|\n",
            "|    Western|       27716|7.536071663795618|\n",
            "|    Mystery|      157535|7.290509630664947|\n",
            "|    Romance|      698980|7.020704748491512|\n",
            "|    History|      108148|7.609742222067169|\n",
            "|     Family|      545824|6.947679026517946|\n",
            "|     Sci-Fi|       95733|7.108837066225370|\n",
            "|     Comedy|     1598064|6.965853243553601|\n",
            "|      Music|      378161|7.129884519323754|\n",
            "|      Adult|      231025|6.203866186946321|\n",
            "|      Crime|      339866|7.421558660575817|\n",
            "|      Drama|     2143411|7.478245381591309|\n",
            "|       News|      503577|7.354097426100945|\n",
            "|        War|       29436|7.678771157729051|\n",
            "|    Fantasy|      165878|7.048976001798729|\n",
            "|  Game-Show|      242898|6.942676153458805|\n",
            "|      Sport|      170019|7.155460337384094|\n",
            "|     Action|      318928|7.092186437764714|\n",
            "|      Short|      984556|6.839228482476947|\n",
            "|     Horror|      139686|6.522727184331029|\n",
            "+-----------+------------+-----------------+\n",
            "\n",
            "time: 324 ms (started: 2021-05-17 18:53:13 +00:00)\n"
          ],
          "name": "stdout"
        }
      ]
    },
    {
      "cell_type": "code",
      "metadata": {
        "colab": {
          "base_uri": "https://localhost:8080/"
        },
        "id": "jDSqt61z4aD7",
        "outputId": "21fb69be-cb7c-4c13-c12d-c18920065c0f"
      },
      "source": [
        "sql(\"\"\"SELECT a.genre, b.movies_count, b.avgRating, a.primaryTitle as best_movie, a.averageRating as best_movie_rating\n",
        "       FROM genres_ratings a \n",
        "       LEFT JOIN grouped_genres_ b on b.genre = a.genre\n",
        "       WHERE a.genre = 'Comedy'\n",
        "       ORDER BY averageRating DESC, numVotes DESC, tconst ASC\n",
        "       LIMIT 1\n",
        "        \"\"\").show()\n",
        "        "
      ],
      "execution_count": 28,
      "outputs": [
        {
          "output_type": "stream",
          "text": [
            "+------+------------+-----------------+--------------------+-----------------+\n",
            "| genre|movies_count|        avgRating|          best_movie|best_movie_rating|\n",
            "+------+------------+-----------------+--------------------+-----------------+\n",
            "|Comedy|     1598064|6.965853243553601|Episode dated 14 ...|              9.9|\n",
            "+------+------------+-----------------+--------------------+-----------------+\n",
            "\n",
            "time: 7.5 s (started: 2021-05-17 18:53:13 +00:00)\n"
          ],
          "name": "stdout"
        }
      ]
    },
    {
      "cell_type": "code",
      "metadata": {
        "colab": {
          "base_uri": "https://localhost:8080/"
        },
        "id": "jTMkqklfpQQB",
        "outputId": "8e94c643-1a38-4bd3-c3e1-adc615d946ce"
      },
      "source": [
        "sql(\"\"\"CREATE TABLE IF NOT EXISTS final_for_4_ STORED AS PARQUET AS SELECT a.tconst, a.genre, a.numVotes, b.movies_count, b.avgRating, a.primaryTitle as best_movie, a.averageRating as best_movie_rating\n",
        "       FROM genres_ratings a \n",
        "       LEFT JOIN grouped_genres_ b on b.genre = a.genre\n",
        "        \"\"\").show()"
      ],
      "execution_count": 33,
      "outputs": [
        {
          "output_type": "stream",
          "text": [
            "++\n",
            "||\n",
            "++\n",
            "++\n",
            "\n",
            "time: 34.3 s (started: 2021-05-17 18:58:06 +00:00)\n"
          ],
          "name": "stdout"
        }
      ]
    },
    {
      "cell_type": "code",
      "metadata": {
        "colab": {
          "base_uri": "https://localhost:8080/"
        },
        "id": "ThK7qNTuDziA",
        "outputId": "2ad44bad-4adc-4b9e-b620-e514905da424"
      },
      "source": [
        "sql(\"\"\"SELECT genre, movies_count, avgRating, best_movie, best_movie_rating\n",
        "       FROM  final_for_4_\n",
        "       WHERE genre = 'Comedy'\n",
        "       ORDER BY best_movie_rating DESC, numVotes DESC, tconst ASC\n",
        "       LIMIT 1\"\"\").show()"
      ],
      "execution_count": 38,
      "outputs": [
        {
          "output_type": "stream",
          "text": [
            "+------+------------+-----------------+--------------------+-----------------+\n",
            "| genre|movies_count|        avgRating|          best_movie|best_movie_rating|\n",
            "+------+------------+-----------------+--------------------+-----------------+\n",
            "|Comedy|     1598064|6.965853243553601|Episode dated 14 ...|              9.9|\n",
            "+------+------------+-----------------+--------------------+-----------------+\n",
            "\n",
            "time: 6 s (started: 2021-05-17 19:01:23 +00:00)\n"
          ],
          "name": "stdout"
        }
      ]
    },
    {
      "cell_type": "markdown",
      "metadata": {
        "id": "zJG_WTTcBobG"
      },
      "source": [
        "## 5. Любимчики режиссера"
      ]
    },
    {
      "cell_type": "code",
      "metadata": {
        "colab": {
          "base_uri": "https://localhost:8080/"
        },
        "id": "spqW3N2orP6G",
        "outputId": "25416069-8157-430c-9720-46cf3ac68117"
      },
      "source": [
        "sql(\"\"\"CREATE TABLE IF NOT EXISTS movie_with_dirs STORED AS PARQUET\n",
        "       SELECT a.*, c.averageRating, c.numVotes, explode(split(b.directors, '[,]', - 1)) as dir\n",
        "       FROM title_basics_csv a \n",
        "       LEFT JOIN title_crew_csv b on b.tconst=a.tconst\n",
        "       LEFT JOIN title_ratings_csv c on a.tconst=c.tconst\n",
        "       \"\"\").show()"
      ],
      "execution_count": 84,
      "outputs": [
        {
          "output_type": "stream",
          "text": [
            "++\n",
            "||\n",
            "++\n",
            "++\n",
            "\n",
            "time: 1min 50s (started: 2021-05-17 19:49:16 +00:00)\n"
          ],
          "name": "stdout"
        }
      ]
    },
    {
      "cell_type": "code",
      "metadata": {
        "colab": {
          "base_uri": "https://localhost:8080/"
        },
        "id": "euV7l2bbuB7P",
        "outputId": "b5749e80-50f8-4d8e-a881-859cc712af19"
      },
      "source": [
        "sql(\"\"\"CREATE TABLE IF NOT EXISTS dir_data STORED AS PARQUET\n",
        "       SELECT dir, COUNT(tconst) as dir_films_count, SUM(averageRating*numVotes)/SUM(numVotes) as dir_avgRating, MAX(numVotes) as dir_max_votes\n",
        "       FROM movie_with_dirs\n",
        "       GROUP BY dir\"\"\").show()"
      ],
      "execution_count": 92,
      "outputs": [
        {
          "output_type": "stream",
          "text": [
            "++\n",
            "||\n",
            "++\n",
            "++\n",
            "\n",
            "time: 24.5 s (started: 2021-05-17 20:01:27 +00:00)\n"
          ],
          "name": "stdout"
        }
      ]
    },
    {
      "cell_type": "code",
      "metadata": {
        "colab": {
          "base_uri": "https://localhost:8080/"
        },
        "id": "f0wmFlRwuVnI",
        "outputId": "421e4c36-ee14-4f84-f132-c37ed32656b4"
      },
      "source": [
        "sql(\"\"\"CREATE TABLE IF NOT EXISTS act_dir_data STORED AS PARQUET\n",
        "       SELECT a.dir, b.nconst, COUNT(a.tconst) as paired_films_count, sum(a.averageRating * a.numVotes) / sum(a.numVotes) as act_dir_avg_rating, MAX(a.numVotes) as act_dir_max_votes\n",
        "       FROM movie_with_dirs a \n",
        "       LEFT JOIN (SELECT * FROM title_principals_csv WHERE Category IN ('self','actor','actress')) b on a.tconst=b.tconst\n",
        "       GROUP BY a.dir, b.nconst\n",
        "       \"\"\").show()"
      ],
      "execution_count": 108,
      "outputs": [
        {
          "output_type": "stream",
          "text": [
            "++\n",
            "||\n",
            "++\n",
            "++\n",
            "\n",
            "time: 3min 42s (started: 2021-05-17 20:52:22 +00:00)\n"
          ],
          "name": "stdout"
        }
      ]
    },
    {
      "cell_type": "code",
      "metadata": {
        "colab": {
          "base_uri": "https://localhost:8080/"
        },
        "id": "AcR0YmPGrp9b",
        "outputId": "f3dc5f1e-d8b4-45c2-b211-14b718ff066c"
      },
      "source": [
        "sql(\"\"\"CREATE TABLE IF NOT EXISTS actor_data STORED AS PARQUET\n",
        "SELECT a.nconst, count(a.tconst) AS actor_films_count, sum(b.averageRating * b.numVotes) / sum(b.numVotes) AS avgRating_act, max(b.numVotes) AS actors_maxVotes\n",
        "FROM title_principals_csv AS a\n",
        "INNER JOIN (SELECT c.tconst, c.primaryTitle , d.averageRating, cast(d.numVotes AS BIGINT) AS numVotes\n",
        "            FROM title_basics_csv AS c\n",
        "            LEFT JOIN title_ratings_csv AS d\n",
        "\t          ON d.tconst = c.tconst) AS b \n",
        "ON a.tconst = b.tconst\n",
        "WHERE category IN ('actor','actress','self')\n",
        "GROUP BY nconst;\"\"\").show()"
      ],
      "execution_count": 86,
      "outputs": [
        {
          "output_type": "stream",
          "text": [
            "++\n",
            "||\n",
            "++\n",
            "++\n",
            "\n",
            "time: 2min 43s (started: 2021-05-17 19:51:36 +00:00)\n"
          ],
          "name": "stdout"
        }
      ]
    },
    {
      "cell_type": "code",
      "metadata": {
        "colab": {
          "base_uri": "https://localhost:8080/"
        },
        "id": "XG7f_yFR5IXt",
        "outputId": "80f3ba73-212d-4704-945c-dc4f69b3cab0"
      },
      "source": [
        "sql(\"SELECT * FROM actor_data;\").show()\n",
        "sql(\"SELECT * FROM dir_data;\").show()\n",
        "sql(\"SELECT * FROM act_dir_data;\").show()"
      ],
      "execution_count": 112,
      "outputs": [
        {
          "output_type": "stream",
          "text": [
            "+---------+-----------------+------------------+---------------+\n",
            "|   nconst|actor_films_count|     avgRating_act|actors_maxVotes|\n",
            "+---------+-----------------+------------------+---------------+\n",
            "|nm0909825|               37|6.5307692307692315|            111|\n",
            "|nm0606887|               50| 6.123287671232877|             29|\n",
            "|nm0865222|               23| 6.039130434782607|             13|\n",
            "|nm0872456|               86|  7.27026863987079|          44401|\n",
            "|nm0310989|               65| 6.642885401556113|           8155|\n",
            "|nm0490404|               26| 6.672641509433962|            159|\n",
            "|nm0700803|              124| 5.378081082368634|           8977|\n",
            "|nm0815888|                2|6.5321428571428575|             69|\n",
            "|nm0093030|               64| 7.270828015914721|           9849|\n",
            "|nm0906987|               49| 6.900466537966539|           1566|\n",
            "|nm0460974|               52| 6.572033639143731|          18837|\n",
            "|nm0098734|               33|  6.22206678700361|          11438|\n",
            "|nm0282760|               24|  6.42363238512035|            426|\n",
            "|nm0001626|              358| 7.701329754987902|         948329|\n",
            "|nm0375219|               56| 6.748871372268003|           3864|\n",
            "|nm0778270|               59| 6.346141669964385|            481|\n",
            "|nm0479181|                1|              null|           null|\n",
            "|nm0852115|               69| 6.547181008902079|            132|\n",
            "|nm0594796|               26|  8.16134703672788|          11099|\n",
            "|nm0758622|               11|              null|           null|\n",
            "+---------+-----------------+------------------+---------------+\n",
            "only showing top 20 rows\n",
            "\n",
            "+---------+---------------+-----------------+-------------+\n",
            "|      dir|dir_films_count|    dir_avgRating|dir_max_votes|\n",
            "+---------+---------------+-----------------+-------------+\n",
            "|nm0000248|             47|4.002899168257431|           86|\n",
            "|nm0000459|             15|7.478737945885216|           98|\n",
            "|nm0000876|             16|7.370081320118172|        79561|\n",
            "|nm0001500|              2|7.138855678906916|          910|\n",
            "|nm0002153|             19|6.241961338991041|          983|\n",
            "|nm0002195|            304|7.770703568883497|          974|\n",
            "|nm0002271|             30|7.440509892859934|         7146|\n",
            "|nm0003939|             20|8.191784153841871|        76419|\n",
            "|nm0005899|              1|              4.3|            9|\n",
            "|nm0006786|              8|5.193111211166142|          880|\n",
            "|nm0008864|              1|             null|         null|\n",
            "|nm0009516|              2|             null|         null|\n",
            "|nm0012131|              1|             null|         null|\n",
            "|nm0015145|              1|             null|         null|\n",
            "|nm0016525|              2|             null|         null|\n",
            "|nm0018124|              2|8.120000000000001|            9|\n",
            "|nm0024839|              9|             null|         null|\n",
            "|nm0027310|             53|6.465079365079365|            9|\n",
            "|nm0030138|              3|6.236861313868613|           43|\n",
            "|nm0031700|             13|4.838803418803418|            9|\n",
            "+---------+---------------+-----------------+-------------+\n",
            "only showing top 20 rows\n",
            "\n",
            "+---------+----------+------------------+------------------+-----------------+\n",
            "|      dir|    nconst|paired_films_count|act_dir_avg_rating|act_dir_max_votes|\n",
            "+---------+----------+------------------+------------------+-----------------+\n",
            "|nm0000005| nm0252416|                 1|               6.6|             2142|\n",
            "|nm0000019| nm0673749|                 1|               8.1|            43511|\n",
            "|nm0000032| nm0692110|                 1|               5.9|              837|\n",
            "|nm0000040| nm0943978|                 1|               8.4|           455562|\n",
            "|nm0000057| nm0017108|                 1|7.6000000000000005|              354|\n",
            "|nm0000076| nm0603402|                 2| 7.707348651008283|             8702|\n",
            "|nm0000080| nm0181867|                 1|               7.6|               10|\n",
            "|nm0000080| nm0303601|                 1|               6.7|              103|\n",
            "|nm0000080| nm0789001|                 1| 7.400000000000001|               12|\n",
            "|nm0000092| nm0387709|                 1|               7.0|               31|\n",
            "|nm0000095| nm0000506|                 1| 7.400000000000001|            42989|\n",
            "|nm0000104| nm0000429|                 2| 6.200000000000001|             6696|\n",
            "|nm0000104|nm12158080|                 1|               9.1|                9|\n",
            "|nm0000110| nm0540585|                 1|               7.2|             2387|\n",
            "|nm0000116| nm0000116|                 2| 6.637961677311858|              779|\n",
            "|nm0000116| nm0000200|                 2| 7.191793342783128|             5037|\n",
            "|nm0000122| nm0030665|                 1|               7.4|             3375|\n",
            "|nm0000165| nm0000158|                 5| 6.780895488963611|            70159|\n",
            "|nm0000165| nm0000438|                 1|               8.2|           860316|\n",
            "|nm0000209| nm1185753|                 1| 7.799999999999999|            13342|\n",
            "+---------+----------+------------------+------------------+-----------------+\n",
            "only showing top 20 rows\n",
            "\n",
            "time: 495 ms (started: 2021-05-17 21:00:09 +00:00)\n"
          ],
          "name": "stdout"
        }
      ]
    },
    {
      "cell_type": "code",
      "metadata": {
        "colab": {
          "base_uri": "https://localhost:8080/"
        },
        "id": "WbgM9lsrHsq6",
        "outputId": "06a45970-c762-40dc-9a0e-8b3d01bb9f6e"
      },
      "source": [
        "sql(\"\"\"CREATE TABLE IF NOT EXISTS lubimki STORED AS PARQUET AS \n",
        "       SELECT ad.*, d.dir_films_count, d.dir_avgRating, d.dir_max_votes, a.actor_films_count, a.avgRating_act, a.actors_maxVotes, n1.primaryName as actor_name, n2.primaryName as director_name\n",
        "       FROM act_dir_data ad\n",
        "       LEFT JOIN dir_data d on ad.dir = d.dir\n",
        "       LEFT JOIN actor_data a on a.nconst = ad.nconst\n",
        "       LEFT JOIN name_basics_csv n1 on n1.nconst = ad.nconst\n",
        "       LEFT JOIN name_basics_csv n2 on n2.nconst = ad.dir\n",
        "       \"\"\").show()"
      ],
      "execution_count": 124,
      "outputs": [
        {
          "output_type": "stream",
          "text": [
            "++\n",
            "||\n",
            "++\n",
            "++\n",
            "\n",
            "time: 2min 50s (started: 2021-05-17 21:15:48 +00:00)\n"
          ],
          "name": "stdout"
        }
      ]
    },
    {
      "cell_type": "code",
      "metadata": {
        "colab": {
          "base_uri": "https://localhost:8080/"
        },
        "id": "wBb3CmQwMw9z",
        "outputId": "f3b1d293-4f96-4654-baef-41c5e0a388b2"
      },
      "source": [
        "sql(\"\"\"SELECT director_name,\n",
        "              dir_films_count director_films_count,\n",
        "              dir_avgRating director_avgRating,\n",
        "              dir_max_votes director_max_votes,\n",
        "              actor_name, \n",
        "              actor_films_count,\n",
        "              avgRating_act actor_avgRating, \n",
        "              actors_maxVotes actor_max_votes, \n",
        "              paired_films_count, \n",
        "              act_dir_avg_rating paired_avgRating, \n",
        "              act_dir_max_votes paired_max_votes\n",
        "       FROM lubimki\n",
        "       WHERE dir = 'nm0000165'\n",
        "              \"\"\").show(50)"
      ],
      "execution_count": 129,
      "outputs": [
        {
          "output_type": "stream",
          "text": [
            "+-------------+--------------------+------------------+------------------+--------------------+-----------------+------------------+---------------+------------------+------------------+----------------+\n",
            "|director_name|director_films_count|director_avgRating|director_max_votes|          actor_name|actor_films_count|   actor_avgRating|actor_max_votes|paired_films_count|  paired_avgRating|paired_max_votes|\n",
            "+-------------+--------------------+------------------+------------------+--------------------+-----------------+------------------+---------------+------------------+------------------+----------------+\n",
            "|   Ron Howard|                  54| 7.262105048333398|               883|        Dianne Wiest|               73| 7.337900041285526|         451581|                 1|               7.0|           45814|\n",
            "|   Ron Howard|                  54| 7.262105048333398|               883|         Bette Davis|              240| 7.634869865231024|         122053|                 1|               7.9|             504|\n",
            "|   Ron Howard|                  54| 7.262105048333398|               883|       Richard Topol|                6| 8.088573337788173|           1065|                 1|               8.3|            1065|\n",
            "|   Ron Howard|                  54| 7.262105048333398|               883|           Jean Reno|              188| 7.242944892607418|        1050449|                 1|               6.6|          405548|\n",
            "|   Ron Howard|                  54| 7.262105048333398|               883|       Thomas Gibson|              297| 7.532282487830191|         164688|                 1|               6.6|           59656|\n",
            "|   Ron Howard|                  54| 7.262105048333398|               883|           Amy Adams|              317| 7.235739622377171|         711874|                 1|               6.7|           31904|\n",
            "|   Ron Howard|                  54| 7.262105048333398|               883|         Gary Sinise|              410|  8.11636404671571|        1839244|                 2| 7.325296360256061|          273176|\n",
            "|   Ron Howard|                  54| 7.262105048333398|               883|      Felicity Jones|              125| 7.243244815367423|         564210|                 1|               6.2|          162305|\n",
            "|   Ron Howard|                  54| 7.262105048333398|               883|       Robert Duvall|              269| 7.867008302918703|        1146870|                 1|               6.7|           13155|\n",
            "|   Ron Howard|                  54| 7.262105048333398|               883|      Michael Keaton|              257| 7.170587979245248|         587057|                 3| 6.543027137214931|           14252|\n",
            "|   Ron Howard|                  54| 7.262105048333398|               883|        Ellie Bamber|               32| 7.637512437810947|          15868|                 1|              null|            null|\n",
            "|   Ron Howard|                  54| 7.262105048333398|               883|         Mike Colter|              130| 7.434293254903488|         117922|                 1|               7.6|             249|\n",
            "|   Ron Howard|                  54| 7.262105048333398|               883|          Val Kilmer|              146|  7.07103377812019|         586443|                 1| 7.299999999999999|          102171|\n",
            "|   Ron Howard|                  54| 7.262105048333398|               883|       Robert Prosky|              106|  6.79540827736078|          94219|                 1|               6.6|           59656|\n",
            "|   Ron Howard|                  54| 7.262105048333398|               883|        Heidi Montag|              215|3.9867213750323085|          10937|                 1|               2.2|             103|\n",
            "|   Ron Howard|                  54| 7.262105048333398|               883|     William Baldwin|              202| 6.219351999616446|          80593|                 1|               6.7|           72724|\n",
            "|   Ron Howard|                  54| 7.262105048333398|               883|       Audrey Tautou|               93| 7.526711461422084|         710922|                 1|               6.6|          405548|\n",
            "|   Ron Howard|                  54| 7.262105048333398|               883|        Laura Deming|                2|               7.7|            305|                 1|               7.7|              32|\n",
            "|   Ron Howard|                  54| 7.262105048333398|               883|      Geoffrey Blake|               24| 6.089384705195563|          41873|                 1|               6.1|           41873|\n",
            "|   Ron Howard|                  54| 7.262105048333398|               883|       Haley Bennett|               37| 6.365108796350971|         172460|                 1|               6.7|           31904|\n",
            "|   Ron Howard|                  54| 7.262105048333398|               883|       Brian Dennehy|              287| 7.102301590290743|         229973|                 1|               6.7|           57951|\n",
            "|   Ron Howard|                  54| 7.262105048333398|               883|       Michelle John|                1|7.1000000000000005|            329|                 1|7.1000000000000005|             329|\n",
            "|   Ron Howard|                  54| 7.262105048333398|               883|   Robert Downey Jr.|              413| 7.562409704792705|        1275979|                 1|              null|            null|\n",
            "|   Ron Howard|                  54| 7.262105048333398|               883|Charles Martin Smith|               43| 7.580125490028975|         285786|                 1|               6.3|             250|\n",
            "|   Ron Howard|                  54| 7.262105048333398|               883|          Ron Howard|              805|  7.43987057048954|          82912|                 1|               5.4|            2530|\n",
            "|   Ron Howard|                  54| 7.262105048333398|               883|            Rita Ora|              217| 5.845344658608298|            602|                 1|               4.8|             602|\n",
            "|   Ron Howard|                  54| 7.262105048333398|               883|          Jean Marsh|              243| 7.255983123424252|         102171|                 1| 7.299999999999999|          102171|\n",
            "|   Ron Howard|                  54| 7.262105048333398|               883|        Stark Howell|                1|               4.1|             78|                 1|               4.1|              78|\n",
            "|   Ron Howard|                  54| 7.262105048333398|               883|          Jill Scott|               80| 5.694111450159837|           9148|                 1|               4.8|             602|\n",
            "|   Ron Howard|                  54| 7.262105048333398|               883|        Steve Greene|                1|               4.1|             78|                 1|               4.1|              78|\n",
            "|   Ron Howard|                  54| 7.262105048333398|               883|       Russell Crowe|              336| 7.598845566251788|        1359109|                 2| 8.165762405215359|          860316|\n",
            "|   Ron Howard|                  54| 7.262105048333398|               883|        Kurt Russell|              256| 7.157254666255962|         527259|                 1|               6.7|           72724|\n",
            "|   Ron Howard|                  54| 7.262105048333398|               883|       Taylor Momsen|               27| 6.694927455646746|         217575|                 1|               6.2|          217575|\n",
            "|   Ron Howard|                  54| 7.262105048333398|               883|         Clu Gulager|              295| 7.023227455069852|          55275|                 1|               7.9|             504|\n",
            "|   Ron Howard|                  54| 7.262105048333398|               883|    Soleil Moon Frye|              303|6.2632836116055035|          34875|                 1|               3.6|              28|\n",
            "|   Ron Howard|                  54| 7.262105048333398|               883|     Ezekiel Emanuel|               46|7.6505347593582895|            305|                 1|               7.7|              32|\n",
            "|   Ron Howard|                  54| 7.262105048333398|               883|       Jason Robards|              177| 7.892257799681191|         306467|                 1|               7.0|           45814|\n",
            "|   Ron Howard|                  54| 7.262105048333398|               883|         Bill Paxton|              212| 7.276858583724698|         607546|                 1|               7.6|          273176|\n",
            "|   Ron Howard|                  54| 7.262105048333398|               883|       Warwick Davis|              482|  6.58728989215941|         102171|                 2| 7.299999999999999|          102171|\n",
            "|   Ron Howard|                  54| 7.262105048333398|               883|          Ben Foster|              100| 7.007289044172698|         292039|                 1|               6.2|          162305|\n",
            "|   Ron Howard|                  54| 7.262105048333398|               883|        Hans Conried|              560| 7.237159272700107|         128419|                 1|               5.9|             114|\n",
            "|   Ron Howard|                  54| 7.262105048333398|               883|                null|             null|              null|           null|                 7|               3.9|              23|\n",
            "|   Ron Howard|                  54| 7.262105048333398|               883|        Steve Martin|              320| 6.465525046061375|         126140|                 1|               7.0|           45814|\n",
            "|   Ron Howard|                  54| 7.262105048333398|               883|          John Candy|              221| 7.018660246904922|         185276|                 1|               6.3|           70159|\n",
            "|   Ron Howard|                  54| 7.262105048333398|               883|         Vic Tayback|              255| 6.895101412066751|           5654|                 1|               5.9|             114|\n",
            "|   Ron Howard|                  54| 7.262105048333398|               883|          Jenna Boyd|               12|7.6374960178400775|          62382|                 1|               6.5|           33588|\n",
            "|   Ron Howard|                  54| 7.262105048333398|               883|      Cate Blanchett|              366|  7.20978304804314|         606369|                 1|               6.5|           33588|\n",
            "|   Ron Howard|                  54| 7.262105048333398|               883|      Robert De Niro|              399|  7.66325139506387|        1146870|                 1|               6.7|           72724|\n",
            "|   Ron Howard|                  54| 7.262105048333398|               883|        Sam Rockwell|              145| 7.296351619675371|         444708|                 1|               7.7|          104029|\n",
            "|   Ron Howard|                  54| 7.262105048333398|               883|Christopher James...|                4| 7.652747252747252|            249|                 1|               7.6|             249|\n",
            "+-------------+--------------------+------------------+------------------+--------------------+-----------------+------------------+---------------+------------------+------------------+----------------+\n",
            "only showing top 50 rows\n",
            "\n",
            "time: 237 ms (started: 2021-05-17 21:28:32 +00:00)\n"
          ],
          "name": "stdout"
        }
      ]
    }
  ]
}